{
 "cells": [
  {
   "cell_type": "markdown",
   "metadata": {},
   "source": [
    "# Capstone Project : Recruit Restaurant Visitor Forecasting"
   ]
  },
  {
   "cell_type": "markdown",
   "metadata": {},
   "source": [
    "### Domain Background:\n",
    "* This project is derived from time series forecast. The data holds the following information for 829 restaurants in Japan which includes restaurant's id which is unique for each restaurant, date, No of visitors on those dates, restaurant genre and area name and its location using latitude and longitude. This data are time series forecast because here Input is Time(it can be date and time or onlydate) and output is no of visitors. In this, order of data are important ,change in order will result in poor forecast. For example if the order of no of visitors in that column is changed and train the model with those un ordered data will result in wrong forecast on those days. So ordering is important that is crucial in time series data. Solving this visitors forecast problem makes restaurnat to effectively plan on scheduling staff members and purchasing ingredients, which in turn will reduce loss and it will help restaurants to be much more efficient and allow them to focus on creating an enjoyable dining experience for their customers. The reason I chose this capstone because when I owned a restaurant, and not knowing the approximate no of visitors at the intial year had led to ineffecient staff planning and buying ingredients which leads to loss. But later years I have used historical data and information about holidays and was able to guess the no of visitors which helped me to reduce the loss significantly. Building models using historical data, location, genre, holidays, would help to better approximate no of visitors."
   ]
  },
  {
   "cell_type": "markdown",
   "metadata": {},
   "source": [
    "### Problem Statement:\n",
    "    * In this project, I would forecast 'No of visitors a restaurant will recieve in future'. The problem here is time series where time as input and no of visitors as Output. But I would convert the time series problem into supervised learning problem where instead of giving time as input to model I would use previous month's day of week average on no of visitors as input and no of visitors on each day as output which is strongly correlated than giving just time as input. This conversion still maintains the order by replacing time with with average no of customers. This conversion leads to approach this problem as supervised machine learning regression problem."
   ]
  },
  {
   "cell_type": "markdown",
   "metadata": {},
   "source": [
    "### Project Design: \n",
    "The following steps are planned to solve this problem\n",
    "\n",
    "Importing the dataset\n",
    "Merging relevant files with training data and convert the data to relevant datatypes.\n",
    "Perform Feature Engineering - for instance: extracting day of week, month, week of the year information from date column\n",
    "Filter the no of visitors on training data with no holidays and compute every month day of week average using groupby in pandas.\n",
    "Performing time series to supervised learning using groupby pandas and helper method so that previous month day of week average would be computed and merged with training dataset.\n",
    "Preparing train and test data set which includes following fields as input restuarant id, month,dow, previous month average(which we got by helper method), genre,areaname,holiday_flag(bcoz the previous month average computed on days with no holiday),latitude,longitude as inputs and no of visitors as output. Same with testing data but no of visitor column will be zero need to be predicted. 7.Split the training data into train and test split to evaluate the model. 8.Using sklearn libraries, implement KNN, SVM and Random Forest model. 9.Measure the performance of model with test set of training data using RMSE metrics. If the value is closer to zero or negative means the model is better model.Based on RMSE value decide the better model. 10.Once the model is finalized then train the model using the whole training data and perform prediction on the test data where no of visitors are zero and need to be predicted."
   ]
  },
  {
   "cell_type": "markdown",
   "metadata": {},
   "source": [
    "Data Exploration:\n",
    "  1. Importing the data set\n",
    "  2. Datatype conversion to relevant datatype\n",
    "  3. merging the dataframes \n",
    "Feature enginnering\n",
    "conversion of timeseries dataset into supervised machine learning problem\n",
    "Preparing training and test data set\n",
    "Handling missing values\n",
    "Benchmark Algorithm and its implementation\n",
    "Algorithm relevant to this problem and its implementation\n",
    "Parameter tuning using gridsearch Cv\n",
    "Evaluation metrics\n",
    "Model Evaluation\n",
    "Forecasting with new data set."
   ]
  },
  {
   "cell_type": "markdown",
   "metadata": {},
   "source": [
    "### 1.Importing dataset and libraries"
   ]
  },
  {
   "cell_type": "markdown",
   "metadata": {},
   "source": [
    "### Importing libraries:\n",
    "  Pandas and Numpy libraries are used to handle the data and perform mathematical operation on data.\n",
    "  Sklearn libraries are used for scaling encodeing and implementing machine learning model\n",
    "  "
   ]
  },
  {
   "cell_type": "code",
   "execution_count": 4,
   "metadata": {
    "collapsed": true
   },
   "outputs": [],
   "source": [
    "import pandas as pd\n",
    "import numpy as np\n",
    "from sklearn.preprocessing import LabelEncoder\n",
    "from sklearn.preprocessing import MinMaxScaler\n",
    "import matplotlib.pyplot as plt\n",
    "%matplotlib inline\n",
    "from sklearn.metrics import mean_squared_error"
   ]
  },
  {
   "cell_type": "markdown",
   "metadata": {},
   "source": [
    "###  Importing Data set:\n",
    "    Hot Pepper Gourmet (hpg): similar to Yelp, here users can search restaurants and also make a reservation online \n",
    "    AirREGI / Restaurant Board (air): similar to Square, a reservation control and cash register system \n",
    "    You must use the reservations, visits, and other information from these sites to forecast future restaurant visitor totals on a given date. The training data covers the dates from 2016 until April 2017. \n",
    "    The test set covers the last week of April and May of 2017. The test set is split based on time (the public fold coming first, the private fold following the public) and covers a chosen subset of the air restaurants. Note that the test set intentionally spans a holiday week in Japan called the \"Golden Week.\"\n",
    "\n",
    "    There are days in the test set where the restaurant were closed and had no visitors. These are ignored in scoring. The training set omits days where the restaurants were closed.\n",
    "\n",
    "    File Descriptions This is a relational dataset from two systems. Each file is prefaced with the source (either air or hpg) to indicate its origin. Each restaurant has a unique air_store_id and hpg_store_id. \n",
    "   \n",
    "   CSV files are converted into dataframe using pandas and \n",
    "    Each data frame is stored as value in dictionary where key is name of the dataframe. \n",
    "    eg:\n",
    "    air_visit_Data.csv is converted into dataframe using pd.read_csv(sep=',') and stored under name tra which act as key in dictionary and the dataframe is the value. Using the key will be able to access the data frame."
   ]
  },
  {
   "cell_type": "code",
   "execution_count": 5,
   "metadata": {
    "collapsed": true
   },
   "outputs": [],
   "source": [
    "# dictionary is created with values as data frame using pd.read_csv()\n",
    "data = {\n",
    "    'tra': pd.read_csv('restaurant_data/air_visit_data.csv'),\n",
    "    'as': pd.read_csv('restaurant_data/air_store_info.csv'),\n",
    "    'hs': pd.read_csv('restaurant_data/hpg_store_info.csv'),\n",
    "    'ar': pd.read_csv('restaurant_data/air_reserve.csv'),\n",
    "    'hr': pd.read_csv('restaurant_data/hpg_reserve.csv'),\n",
    "    'id': pd.read_csv('restaurant_data/store_id_relation.csv'),\n",
    "    'tes': pd.read_csv('restaurant_data/sample_submission.csv'),\n",
    "    'hol': pd.read_csv('restaurant_data/date_info.csv').rename(columns={'calendar_date':'visit_date'})\n",
    "    }\n",
    "#merging the id and hr data frame to find the air_store_id of that restaurant\n",
    "data['hr'] = pd.merge(data['hr'], data['id'], how='inner', on=['hpg_store_id'])\n",
    "data['hr'].drop('hpg_store_id',  axis=1, inplace=True)\n",
    "data['ar'] = data['ar'].append(data['hr'])\n"
   ]
  },
  {
   "cell_type": "markdown",
   "metadata": {},
   "source": [
    "**air_visit_data.csv** - This file contain air_Store_id,visit_date and no of visitors to those restaurant. This file contain training examples"
   ]
  },
  {
   "cell_type": "code",
   "execution_count": 3,
   "metadata": {},
   "outputs": [
    {
     "data": {
      "text/html": [
       "<div>\n",
       "<style>\n",
       "    .dataframe thead tr:only-child th {\n",
       "        text-align: right;\n",
       "    }\n",
       "\n",
       "    .dataframe thead th {\n",
       "        text-align: left;\n",
       "    }\n",
       "\n",
       "    .dataframe tbody tr th {\n",
       "        vertical-align: top;\n",
       "    }\n",
       "</style>\n",
       "<table border=\"1\" class=\"dataframe\">\n",
       "  <thead>\n",
       "    <tr style=\"text-align: right;\">\n",
       "      <th></th>\n",
       "      <th>air_store_id</th>\n",
       "      <th>visit_date</th>\n",
       "      <th>visitors</th>\n",
       "    </tr>\n",
       "  </thead>\n",
       "  <tbody>\n",
       "    <tr>\n",
       "      <th>0</th>\n",
       "      <td>air_ba937bf13d40fb24</td>\n",
       "      <td>2016-01-13</td>\n",
       "      <td>25</td>\n",
       "    </tr>\n",
       "    <tr>\n",
       "      <th>1</th>\n",
       "      <td>air_ba937bf13d40fb24</td>\n",
       "      <td>2016-01-14</td>\n",
       "      <td>32</td>\n",
       "    </tr>\n",
       "    <tr>\n",
       "      <th>2</th>\n",
       "      <td>air_ba937bf13d40fb24</td>\n",
       "      <td>2016-01-15</td>\n",
       "      <td>29</td>\n",
       "    </tr>\n",
       "    <tr>\n",
       "      <th>3</th>\n",
       "      <td>air_ba937bf13d40fb24</td>\n",
       "      <td>2016-01-16</td>\n",
       "      <td>22</td>\n",
       "    </tr>\n",
       "    <tr>\n",
       "      <th>4</th>\n",
       "      <td>air_ba937bf13d40fb24</td>\n",
       "      <td>2016-01-18</td>\n",
       "      <td>6</td>\n",
       "    </tr>\n",
       "  </tbody>\n",
       "</table>\n",
       "</div>"
      ],
      "text/plain": [
       "           air_store_id  visit_date  visitors\n",
       "0  air_ba937bf13d40fb24  2016-01-13        25\n",
       "1  air_ba937bf13d40fb24  2016-01-14        32\n",
       "2  air_ba937bf13d40fb24  2016-01-15        29\n",
       "3  air_ba937bf13d40fb24  2016-01-16        22\n",
       "4  air_ba937bf13d40fb24  2016-01-18         6"
      ]
     },
     "execution_count": 3,
     "metadata": {},
     "output_type": "execute_result"
    }
   ],
   "source": [
    "data['tra'].head()"
   ]
  },
  {
   "cell_type": "markdown",
   "metadata": {},
   "source": [
    "**air_store_info.csv:**\n",
    "This file contains information about select air restaurants. Column names and contents are self-explanatory.\n",
    "air_store_id air_genre_name air_area_name latitude longitude Note: latitude and longitude are the latitude and longitude of the area to which the store belongs"
   ]
  },
  {
   "cell_type": "code",
   "execution_count": 4,
   "metadata": {},
   "outputs": [
    {
     "data": {
      "text/html": [
       "<div>\n",
       "<style>\n",
       "    .dataframe thead tr:only-child th {\n",
       "        text-align: right;\n",
       "    }\n",
       "\n",
       "    .dataframe thead th {\n",
       "        text-align: left;\n",
       "    }\n",
       "\n",
       "    .dataframe tbody tr th {\n",
       "        vertical-align: top;\n",
       "    }\n",
       "</style>\n",
       "<table border=\"1\" class=\"dataframe\">\n",
       "  <thead>\n",
       "    <tr style=\"text-align: right;\">\n",
       "      <th></th>\n",
       "      <th>air_store_id</th>\n",
       "      <th>air_genre_name</th>\n",
       "      <th>air_area_name</th>\n",
       "      <th>latitude</th>\n",
       "      <th>longitude</th>\n",
       "    </tr>\n",
       "  </thead>\n",
       "  <tbody>\n",
       "    <tr>\n",
       "      <th>0</th>\n",
       "      <td>air_0f0cdeee6c9bf3d7</td>\n",
       "      <td>Italian/French</td>\n",
       "      <td>Hyōgo-ken Kōbe-shi Kumoidōri</td>\n",
       "      <td>34.695124</td>\n",
       "      <td>135.197852</td>\n",
       "    </tr>\n",
       "    <tr>\n",
       "      <th>1</th>\n",
       "      <td>air_7cc17a324ae5c7dc</td>\n",
       "      <td>Italian/French</td>\n",
       "      <td>Hyōgo-ken Kōbe-shi Kumoidōri</td>\n",
       "      <td>34.695124</td>\n",
       "      <td>135.197852</td>\n",
       "    </tr>\n",
       "    <tr>\n",
       "      <th>2</th>\n",
       "      <td>air_fee8dcf4d619598e</td>\n",
       "      <td>Italian/French</td>\n",
       "      <td>Hyōgo-ken Kōbe-shi Kumoidōri</td>\n",
       "      <td>34.695124</td>\n",
       "      <td>135.197852</td>\n",
       "    </tr>\n",
       "    <tr>\n",
       "      <th>3</th>\n",
       "      <td>air_a17f0778617c76e2</td>\n",
       "      <td>Italian/French</td>\n",
       "      <td>Hyōgo-ken Kōbe-shi Kumoidōri</td>\n",
       "      <td>34.695124</td>\n",
       "      <td>135.197852</td>\n",
       "    </tr>\n",
       "    <tr>\n",
       "      <th>4</th>\n",
       "      <td>air_83db5aff8f50478e</td>\n",
       "      <td>Italian/French</td>\n",
       "      <td>Tōkyō-to Minato-ku Shibakōen</td>\n",
       "      <td>35.658068</td>\n",
       "      <td>139.751599</td>\n",
       "    </tr>\n",
       "  </tbody>\n",
       "</table>\n",
       "</div>"
      ],
      "text/plain": [
       "           air_store_id  air_genre_name                 air_area_name  \\\n",
       "0  air_0f0cdeee6c9bf3d7  Italian/French  Hyōgo-ken Kōbe-shi Kumoidōri   \n",
       "1  air_7cc17a324ae5c7dc  Italian/French  Hyōgo-ken Kōbe-shi Kumoidōri   \n",
       "2  air_fee8dcf4d619598e  Italian/French  Hyōgo-ken Kōbe-shi Kumoidōri   \n",
       "3  air_a17f0778617c76e2  Italian/French  Hyōgo-ken Kōbe-shi Kumoidōri   \n",
       "4  air_83db5aff8f50478e  Italian/French  Tōkyō-to Minato-ku Shibakōen   \n",
       "\n",
       "    latitude   longitude  \n",
       "0  34.695124  135.197852  \n",
       "1  34.695124  135.197852  \n",
       "2  34.695124  135.197852  \n",
       "3  34.695124  135.197852  \n",
       "4  35.658068  139.751599  "
      ]
     },
     "execution_count": 4,
     "metadata": {},
     "output_type": "execute_result"
    }
   ],
   "source": [
    "data['as'].head()"
   ]
  },
  {
   "cell_type": "code",
   "execution_count": 5,
   "metadata": {},
   "outputs": [
    {
     "data": {
      "text/plain": [
       "<matplotlib.axes._subplots.AxesSubplot at 0x1a27d299cc0>"
      ]
     },
     "execution_count": 5,
     "metadata": {},
     "output_type": "execute_result"
    },
    {
     "data": {
      "image/png": "[encoded data removed]",
      "text/plain": [
       "<matplotlib.figure.Figure at 0x1a27d1c4358>"
      ]
     },
     "metadata": {},
     "output_type": "display_data"
    }
   ],
   "source": [
    "data['as'].air_genre_name.value_counts().plot(kind='bar')"
   ]
  },
  {
   "cell_type": "markdown",
   "metadata": {},
   "source": [
    "**air_reserve.csv:** \n",
    "This file contains reservations made in the air system. It includes following fields\n",
    "air_store_id - the restaurant's id in the air system \n",
    "visit_datetime - the time of the reservation visitor will occur \n",
    "reserve_datetime - the time the reservation was made \n",
    "reserve_visitors - the number of visitors for that reservation "
   ]
  },
  {
   "cell_type": "code",
   "execution_count": 6,
   "metadata": {},
   "outputs": [
    {
     "data": {
      "text/html": [
       "<div>\n",
       "<style>\n",
       "    .dataframe thead tr:only-child th {\n",
       "        text-align: right;\n",
       "    }\n",
       "\n",
       "    .dataframe thead th {\n",
       "        text-align: left;\n",
       "    }\n",
       "\n",
       "    .dataframe tbody tr th {\n",
       "        vertical-align: top;\n",
       "    }\n",
       "</style>\n",
       "<table border=\"1\" class=\"dataframe\">\n",
       "  <thead>\n",
       "    <tr style=\"text-align: right;\">\n",
       "      <th></th>\n",
       "      <th>air_store_id</th>\n",
       "      <th>reserve_datetime</th>\n",
       "      <th>reserve_visitors</th>\n",
       "      <th>visit_datetime</th>\n",
       "    </tr>\n",
       "  </thead>\n",
       "  <tbody>\n",
       "    <tr>\n",
       "      <th>0</th>\n",
       "      <td>air_877f79706adbfb06</td>\n",
       "      <td>2016-01-01 16:00:00</td>\n",
       "      <td>1</td>\n",
       "      <td>2016-01-01 19:00:00</td>\n",
       "    </tr>\n",
       "    <tr>\n",
       "      <th>1</th>\n",
       "      <td>air_db4b38ebe7a7ceff</td>\n",
       "      <td>2016-01-01 19:00:00</td>\n",
       "      <td>3</td>\n",
       "      <td>2016-01-01 19:00:00</td>\n",
       "    </tr>\n",
       "    <tr>\n",
       "      <th>2</th>\n",
       "      <td>air_db4b38ebe7a7ceff</td>\n",
       "      <td>2016-01-01 19:00:00</td>\n",
       "      <td>6</td>\n",
       "      <td>2016-01-01 19:00:00</td>\n",
       "    </tr>\n",
       "    <tr>\n",
       "      <th>3</th>\n",
       "      <td>air_877f79706adbfb06</td>\n",
       "      <td>2016-01-01 16:00:00</td>\n",
       "      <td>2</td>\n",
       "      <td>2016-01-01 20:00:00</td>\n",
       "    </tr>\n",
       "    <tr>\n",
       "      <th>4</th>\n",
       "      <td>air_db80363d35f10926</td>\n",
       "      <td>2016-01-01 01:00:00</td>\n",
       "      <td>5</td>\n",
       "      <td>2016-01-01 20:00:00</td>\n",
       "    </tr>\n",
       "  </tbody>\n",
       "</table>\n",
       "</div>"
      ],
      "text/plain": [
       "           air_store_id     reserve_datetime  reserve_visitors  \\\n",
       "0  air_877f79706adbfb06  2016-01-01 16:00:00                 1   \n",
       "1  air_db4b38ebe7a7ceff  2016-01-01 19:00:00                 3   \n",
       "2  air_db4b38ebe7a7ceff  2016-01-01 19:00:00                 6   \n",
       "3  air_877f79706adbfb06  2016-01-01 16:00:00                 2   \n",
       "4  air_db80363d35f10926  2016-01-01 01:00:00                 5   \n",
       "\n",
       "        visit_datetime  \n",
       "0  2016-01-01 19:00:00  \n",
       "1  2016-01-01 19:00:00  \n",
       "2  2016-01-01 19:00:00  \n",
       "3  2016-01-01 20:00:00  \n",
       "4  2016-01-01 20:00:00  "
      ]
     },
     "execution_count": 6,
     "metadata": {},
     "output_type": "execute_result"
    }
   ],
   "source": [
    "data['ar'].head()"
   ]
  },
  {
   "cell_type": "markdown",
   "metadata": {},
   "source": [
    "**hpg_store_info.csv:** \n",
    "This file contains information about select hpg restaurants. Column names and contents are self-explanatory.\n",
    "hpg_store_id hpg_genre_name hpg_area_name latitude longitude Note: latitude and longitude are the latitude and longitude of the area to which the store belongs"
   ]
  },
  {
   "cell_type": "code",
   "execution_count": 7,
   "metadata": {},
   "outputs": [
    {
     "data": {
      "text/html": [
       "<div>\n",
       "<style>\n",
       "    .dataframe thead tr:only-child th {\n",
       "        text-align: right;\n",
       "    }\n",
       "\n",
       "    .dataframe thead th {\n",
       "        text-align: left;\n",
       "    }\n",
       "\n",
       "    .dataframe tbody tr th {\n",
       "        vertical-align: top;\n",
       "    }\n",
       "</style>\n",
       "<table border=\"1\" class=\"dataframe\">\n",
       "  <thead>\n",
       "    <tr style=\"text-align: right;\">\n",
       "      <th></th>\n",
       "      <th>hpg_store_id</th>\n",
       "      <th>hpg_genre_name</th>\n",
       "      <th>hpg_area_name</th>\n",
       "      <th>latitude</th>\n",
       "      <th>longitude</th>\n",
       "    </tr>\n",
       "  </thead>\n",
       "  <tbody>\n",
       "    <tr>\n",
       "      <th>0</th>\n",
       "      <td>hpg_6622b62385aec8bf</td>\n",
       "      <td>Japanese style</td>\n",
       "      <td>Tōkyō-to Setagaya-ku Taishidō</td>\n",
       "      <td>35.643675</td>\n",
       "      <td>139.668221</td>\n",
       "    </tr>\n",
       "    <tr>\n",
       "      <th>1</th>\n",
       "      <td>hpg_e9e068dd49c5fa00</td>\n",
       "      <td>Japanese style</td>\n",
       "      <td>Tōkyō-to Setagaya-ku Taishidō</td>\n",
       "      <td>35.643675</td>\n",
       "      <td>139.668221</td>\n",
       "    </tr>\n",
       "    <tr>\n",
       "      <th>2</th>\n",
       "      <td>hpg_2976f7acb4b3a3bc</td>\n",
       "      <td>Japanese style</td>\n",
       "      <td>Tōkyō-to Setagaya-ku Taishidō</td>\n",
       "      <td>35.643675</td>\n",
       "      <td>139.668221</td>\n",
       "    </tr>\n",
       "    <tr>\n",
       "      <th>3</th>\n",
       "      <td>hpg_e51a522e098f024c</td>\n",
       "      <td>Japanese style</td>\n",
       "      <td>Tōkyō-to Setagaya-ku Taishidō</td>\n",
       "      <td>35.643675</td>\n",
       "      <td>139.668221</td>\n",
       "    </tr>\n",
       "    <tr>\n",
       "      <th>4</th>\n",
       "      <td>hpg_e3d0e1519894f275</td>\n",
       "      <td>Japanese style</td>\n",
       "      <td>Tōkyō-to Setagaya-ku Taishidō</td>\n",
       "      <td>35.643675</td>\n",
       "      <td>139.668221</td>\n",
       "    </tr>\n",
       "  </tbody>\n",
       "</table>\n",
       "</div>"
      ],
      "text/plain": [
       "           hpg_store_id  hpg_genre_name                  hpg_area_name  \\\n",
       "0  hpg_6622b62385aec8bf  Japanese style  Tōkyō-to Setagaya-ku Taishidō   \n",
       "1  hpg_e9e068dd49c5fa00  Japanese style  Tōkyō-to Setagaya-ku Taishidō   \n",
       "2  hpg_2976f7acb4b3a3bc  Japanese style  Tōkyō-to Setagaya-ku Taishidō   \n",
       "3  hpg_e51a522e098f024c  Japanese style  Tōkyō-to Setagaya-ku Taishidō   \n",
       "4  hpg_e3d0e1519894f275  Japanese style  Tōkyō-to Setagaya-ku Taishidō   \n",
       "\n",
       "    latitude   longitude  \n",
       "0  35.643675  139.668221  \n",
       "1  35.643675  139.668221  \n",
       "2  35.643675  139.668221  \n",
       "3  35.643675  139.668221  \n",
       "4  35.643675  139.668221  "
      ]
     },
     "execution_count": 7,
     "metadata": {},
     "output_type": "execute_result"
    }
   ],
   "source": [
    "data['hs'].head()"
   ]
  },
  {
   "cell_type": "code",
   "execution_count": 10,
   "metadata": {},
   "outputs": [
    {
     "data": {
      "text/plain": [
       "<matplotlib.axes._subplots.AxesSubplot at 0x1a206db5fd0>"
      ]
     },
     "execution_count": 10,
     "metadata": {},
     "output_type": "execute_result"
    },
    {
     "data": {
      "image/png": "[encoded data removed]",
      "text/plain": [
       "<matplotlib.figure.Figure at 0x1a2014a4a20>"
      ]
     },
     "metadata": {},
     "output_type": "display_data"
    }
   ],
   "source": [
    "data['hs'].hpg_genre_name.value_counts().plot(kind='bar')"
   ]
  },
  {
   "cell_type": "markdown",
   "metadata": {},
   "source": [
    "**hpg_reserve.csv:**\n",
    "This file contains reservations made in the hpg system.\n",
    "hpg_store_id - the restaurant's id in the hpg system \n",
    "visit_datetime - the time of the reservation \n",
    "reserve_datetime - the time the reservation was made\n",
    "reserve_visitors - the number of visitors for that reservation "
   ]
  },
  {
   "cell_type": "code",
   "execution_count": 11,
   "metadata": {},
   "outputs": [
    {
     "data": {
      "text/html": [
       "<div>\n",
       "<style>\n",
       "    .dataframe thead tr:only-child th {\n",
       "        text-align: right;\n",
       "    }\n",
       "\n",
       "    .dataframe thead th {\n",
       "        text-align: left;\n",
       "    }\n",
       "\n",
       "    .dataframe tbody tr th {\n",
       "        vertical-align: top;\n",
       "    }\n",
       "</style>\n",
       "<table border=\"1\" class=\"dataframe\">\n",
       "  <thead>\n",
       "    <tr style=\"text-align: right;\">\n",
       "      <th></th>\n",
       "      <th>visit_datetime</th>\n",
       "      <th>reserve_datetime</th>\n",
       "      <th>reserve_visitors</th>\n",
       "      <th>air_store_id</th>\n",
       "    </tr>\n",
       "  </thead>\n",
       "  <tbody>\n",
       "    <tr>\n",
       "      <th>0</th>\n",
       "      <td>2016-01-01 19:00:00</td>\n",
       "      <td>2016-01-01 15:00:00</td>\n",
       "      <td>4</td>\n",
       "      <td>air_db80363d35f10926</td>\n",
       "    </tr>\n",
       "    <tr>\n",
       "      <th>1</th>\n",
       "      <td>2016-01-02 19:00:00</td>\n",
       "      <td>2016-01-02 14:00:00</td>\n",
       "      <td>2</td>\n",
       "      <td>air_db80363d35f10926</td>\n",
       "    </tr>\n",
       "    <tr>\n",
       "      <th>2</th>\n",
       "      <td>2016-01-03 18:00:00</td>\n",
       "      <td>2016-01-02 20:00:00</td>\n",
       "      <td>6</td>\n",
       "      <td>air_db80363d35f10926</td>\n",
       "    </tr>\n",
       "    <tr>\n",
       "      <th>3</th>\n",
       "      <td>2016-01-06 20:00:00</td>\n",
       "      <td>2016-01-04 22:00:00</td>\n",
       "      <td>3</td>\n",
       "      <td>air_db80363d35f10926</td>\n",
       "    </tr>\n",
       "    <tr>\n",
       "      <th>4</th>\n",
       "      <td>2016-01-11 18:00:00</td>\n",
       "      <td>2016-01-11 14:00:00</td>\n",
       "      <td>2</td>\n",
       "      <td>air_db80363d35f10926</td>\n",
       "    </tr>\n",
       "  </tbody>\n",
       "</table>\n",
       "</div>"
      ],
      "text/plain": [
       "        visit_datetime     reserve_datetime  reserve_visitors  \\\n",
       "0  2016-01-01 19:00:00  2016-01-01 15:00:00                 4   \n",
       "1  2016-01-02 19:00:00  2016-01-02 14:00:00                 2   \n",
       "2  2016-01-03 18:00:00  2016-01-02 20:00:00                 6   \n",
       "3  2016-01-06 20:00:00  2016-01-04 22:00:00                 3   \n",
       "4  2016-01-11 18:00:00  2016-01-11 14:00:00                 2   \n",
       "\n",
       "           air_store_id  \n",
       "0  air_db80363d35f10926  \n",
       "1  air_db80363d35f10926  \n",
       "2  air_db80363d35f10926  \n",
       "3  air_db80363d35f10926  \n",
       "4  air_db80363d35f10926  "
      ]
     },
     "execution_count": 11,
     "metadata": {},
     "output_type": "execute_result"
    }
   ],
   "source": [
    "data['hr'].head()"
   ]
  },
  {
   "cell_type": "markdown",
   "metadata": {},
   "source": [
    "**store_id_relation.csv:** \n",
    "This file allows you to join select restaurants that have both the air and hpg system.\n",
    "hpg_store_id air_store_id air_visit_data.csv This file contains historical visit data for the air restaurants."
   ]
  },
  {
   "cell_type": "code",
   "execution_count": 12,
   "metadata": {},
   "outputs": [
    {
     "data": {
      "text/html": [
       "<div>\n",
       "<style>\n",
       "    .dataframe thead tr:only-child th {\n",
       "        text-align: right;\n",
       "    }\n",
       "\n",
       "    .dataframe thead th {\n",
       "        text-align: left;\n",
       "    }\n",
       "\n",
       "    .dataframe tbody tr th {\n",
       "        vertical-align: top;\n",
       "    }\n",
       "</style>\n",
       "<table border=\"1\" class=\"dataframe\">\n",
       "  <thead>\n",
       "    <tr style=\"text-align: right;\">\n",
       "      <th></th>\n",
       "      <th>air_store_id</th>\n",
       "      <th>hpg_store_id</th>\n",
       "    </tr>\n",
       "  </thead>\n",
       "  <tbody>\n",
       "    <tr>\n",
       "      <th>0</th>\n",
       "      <td>air_63b13c56b7201bd9</td>\n",
       "      <td>hpg_4bc649e72e2a239a</td>\n",
       "    </tr>\n",
       "    <tr>\n",
       "      <th>1</th>\n",
       "      <td>air_a24bf50c3e90d583</td>\n",
       "      <td>hpg_c34b496d0305a809</td>\n",
       "    </tr>\n",
       "    <tr>\n",
       "      <th>2</th>\n",
       "      <td>air_c7f78b4f3cba33ff</td>\n",
       "      <td>hpg_cd8ae0d9bbd58ff9</td>\n",
       "    </tr>\n",
       "    <tr>\n",
       "      <th>3</th>\n",
       "      <td>air_947eb2cae4f3e8f2</td>\n",
       "      <td>hpg_de24ea49dc25d6b8</td>\n",
       "    </tr>\n",
       "    <tr>\n",
       "      <th>4</th>\n",
       "      <td>air_965b2e0cf4119003</td>\n",
       "      <td>hpg_653238a84804d8e7</td>\n",
       "    </tr>\n",
       "  </tbody>\n",
       "</table>\n",
       "</div>"
      ],
      "text/plain": [
       "           air_store_id          hpg_store_id\n",
       "0  air_63b13c56b7201bd9  hpg_4bc649e72e2a239a\n",
       "1  air_a24bf50c3e90d583  hpg_c34b496d0305a809\n",
       "2  air_c7f78b4f3cba33ff  hpg_cd8ae0d9bbd58ff9\n",
       "3  air_947eb2cae4f3e8f2  hpg_de24ea49dc25d6b8\n",
       "4  air_965b2e0cf4119003  hpg_653238a84804d8e7"
      ]
     },
     "execution_count": 12,
     "metadata": {},
     "output_type": "execute_result"
    }
   ],
   "source": [
    "data['id'].head()"
   ]
  },
  {
   "cell_type": "markdown",
   "metadata": {},
   "source": [
    "**sample_submission.csv:**\n",
    "This file shows a submission in the correct format, including the days for which you must forecast.This is the testing file.\n",
    "id - the id is formed by concatenating the air_store_id and visit_date with an underscore visitors- the number of visitors forecasted for the store and date combination "
   ]
  },
  {
   "cell_type": "code",
   "execution_count": 14,
   "metadata": {},
   "outputs": [
    {
     "data": {
      "text/html": [
       "<div>\n",
       "<style>\n",
       "    .dataframe thead tr:only-child th {\n",
       "        text-align: right;\n",
       "    }\n",
       "\n",
       "    .dataframe thead th {\n",
       "        text-align: left;\n",
       "    }\n",
       "\n",
       "    .dataframe tbody tr th {\n",
       "        vertical-align: top;\n",
       "    }\n",
       "</style>\n",
       "<table border=\"1\" class=\"dataframe\">\n",
       "  <thead>\n",
       "    <tr style=\"text-align: right;\">\n",
       "      <th></th>\n",
       "      <th>id</th>\n",
       "      <th>visitors</th>\n",
       "    </tr>\n",
       "  </thead>\n",
       "  <tbody>\n",
       "    <tr>\n",
       "      <th>0</th>\n",
       "      <td>air_00a91d42b08b08d9_2017-04-23</td>\n",
       "      <td>0</td>\n",
       "    </tr>\n",
       "    <tr>\n",
       "      <th>1</th>\n",
       "      <td>air_00a91d42b08b08d9_2017-04-24</td>\n",
       "      <td>0</td>\n",
       "    </tr>\n",
       "    <tr>\n",
       "      <th>2</th>\n",
       "      <td>air_00a91d42b08b08d9_2017-04-25</td>\n",
       "      <td>0</td>\n",
       "    </tr>\n",
       "    <tr>\n",
       "      <th>3</th>\n",
       "      <td>air_00a91d42b08b08d9_2017-04-26</td>\n",
       "      <td>0</td>\n",
       "    </tr>\n",
       "    <tr>\n",
       "      <th>4</th>\n",
       "      <td>air_00a91d42b08b08d9_2017-04-27</td>\n",
       "      <td>0</td>\n",
       "    </tr>\n",
       "  </tbody>\n",
       "</table>\n",
       "</div>"
      ],
      "text/plain": [
       "                                id  visitors\n",
       "0  air_00a91d42b08b08d9_2017-04-23         0\n",
       "1  air_00a91d42b08b08d9_2017-04-24         0\n",
       "2  air_00a91d42b08b08d9_2017-04-25         0\n",
       "3  air_00a91d42b08b08d9_2017-04-26         0\n",
       "4  air_00a91d42b08b08d9_2017-04-27         0"
      ]
     },
     "execution_count": 14,
     "metadata": {},
     "output_type": "execute_result"
    }
   ],
   "source": [
    "data['tes'].head()"
   ]
  },
  {
   "cell_type": "markdown",
   "metadata": {},
   "source": [
    "**date_info.csv:**\n",
    "This file gives basic information about the calendar dates in the dataset.\n",
    "calendar_date, day_of_week are self explanatory.\n",
    "holiday_flg - is the day a holiday in Japan "
   ]
  },
  {
   "cell_type": "code",
   "execution_count": 13,
   "metadata": {},
   "outputs": [
    {
     "data": {
      "text/html": [
       "<div>\n",
       "<style>\n",
       "    .dataframe thead tr:only-child th {\n",
       "        text-align: right;\n",
       "    }\n",
       "\n",
       "    .dataframe thead th {\n",
       "        text-align: left;\n",
       "    }\n",
       "\n",
       "    .dataframe tbody tr th {\n",
       "        vertical-align: top;\n",
       "    }\n",
       "</style>\n",
       "<table border=\"1\" class=\"dataframe\">\n",
       "  <thead>\n",
       "    <tr style=\"text-align: right;\">\n",
       "      <th></th>\n",
       "      <th>visit_date</th>\n",
       "      <th>day_of_week</th>\n",
       "      <th>holiday_flg</th>\n",
       "    </tr>\n",
       "  </thead>\n",
       "  <tbody>\n",
       "    <tr>\n",
       "      <th>0</th>\n",
       "      <td>2016-01-01</td>\n",
       "      <td>Friday</td>\n",
       "      <td>1</td>\n",
       "    </tr>\n",
       "    <tr>\n",
       "      <th>1</th>\n",
       "      <td>2016-01-02</td>\n",
       "      <td>Saturday</td>\n",
       "      <td>1</td>\n",
       "    </tr>\n",
       "    <tr>\n",
       "      <th>2</th>\n",
       "      <td>2016-01-03</td>\n",
       "      <td>Sunday</td>\n",
       "      <td>1</td>\n",
       "    </tr>\n",
       "    <tr>\n",
       "      <th>3</th>\n",
       "      <td>2016-01-04</td>\n",
       "      <td>Monday</td>\n",
       "      <td>0</td>\n",
       "    </tr>\n",
       "    <tr>\n",
       "      <th>4</th>\n",
       "      <td>2016-01-05</td>\n",
       "      <td>Tuesday</td>\n",
       "      <td>0</td>\n",
       "    </tr>\n",
       "  </tbody>\n",
       "</table>\n",
       "</div>"
      ],
      "text/plain": [
       "   visit_date day_of_week  holiday_flg\n",
       "0  2016-01-01      Friday            1\n",
       "1  2016-01-02    Saturday            1\n",
       "2  2016-01-03      Sunday            1\n",
       "3  2016-01-04      Monday            0\n",
       "4  2016-01-05     Tuesday            0"
      ]
     },
     "execution_count": 13,
     "metadata": {},
     "output_type": "execute_result"
    }
   ],
   "source": [
    "data['hol'].head()"
   ]
  },
  {
   "cell_type": "markdown",
   "metadata": {},
   "source": [
    "### 2.Datatype conversion"
   ]
  },
  {
   "cell_type": "markdown",
   "metadata": {},
   "source": [
    "1. Converting the string into pandas datetime format.\n",
    "2. Finding difference between reserve_datetime and visit_datetime of ar and hr dataframe on each row and groupy based on restaurant id and visitdate to find the total no of reserve visitors for each restaurant.  \n"
   ]
  },
  {
   "cell_type": "code",
   "execution_count": 6,
   "metadata": {
    "collapsed": true
   },
   "outputs": [],
   "source": [
    "for df in ['ar','hr']:\n",
    "    data[df]['visit_datetime'] = pd.to_datetime(data[df]['visit_datetime'])\n",
    "    data[df]['visit_datetime'] = data[df]['visit_datetime'].dt.date\n",
    "    data[df]['reserve_datetime'] = pd.to_datetime(data[df]['reserve_datetime'])\n",
    "    data[df]['reserve_datetime'] = data[df]['reserve_datetime'].dt.date    \n",
    "    data[df]['reserve_datetime_diff'] = data[df].apply(lambda r: (r['visit_datetime'] - r['reserve_datetime']).days, axis=1)\n",
    "    data[df] = data[df].groupby(['air_store_id','visit_datetime'], as_index=False)[['reserve_datetime_diff', 'reserve_visitors']].sum().rename(columns={'visit_datetime':'visit_date'})"
   ]
  },
  {
   "cell_type": "code",
   "execution_count": 16,
   "metadata": {},
   "outputs": [
    {
     "data": {
      "text/html": [
       "<div>\n",
       "<style>\n",
       "    .dataframe thead tr:only-child th {\n",
       "        text-align: right;\n",
       "    }\n",
       "\n",
       "    .dataframe thead th {\n",
       "        text-align: left;\n",
       "    }\n",
       "\n",
       "    .dataframe tbody tr th {\n",
       "        vertical-align: top;\n",
       "    }\n",
       "</style>\n",
       "<table border=\"1\" class=\"dataframe\">\n",
       "  <thead>\n",
       "    <tr style=\"text-align: right;\">\n",
       "      <th></th>\n",
       "      <th>air_store_id</th>\n",
       "      <th>visit_date</th>\n",
       "      <th>reserve_datetime_diff</th>\n",
       "      <th>reserve_visitors</th>\n",
       "    </tr>\n",
       "  </thead>\n",
       "  <tbody>\n",
       "    <tr>\n",
       "      <th>0</th>\n",
       "      <td>air_00a91d42b08b08d9</td>\n",
       "      <td>2016-01-14</td>\n",
       "      <td>3</td>\n",
       "      <td>2</td>\n",
       "    </tr>\n",
       "    <tr>\n",
       "      <th>1</th>\n",
       "      <td>air_00a91d42b08b08d9</td>\n",
       "      <td>2016-01-15</td>\n",
       "      <td>6</td>\n",
       "      <td>4</td>\n",
       "    </tr>\n",
       "    <tr>\n",
       "      <th>2</th>\n",
       "      <td>air_00a91d42b08b08d9</td>\n",
       "      <td>2016-01-16</td>\n",
       "      <td>3</td>\n",
       "      <td>2</td>\n",
       "    </tr>\n",
       "    <tr>\n",
       "      <th>3</th>\n",
       "      <td>air_00a91d42b08b08d9</td>\n",
       "      <td>2016-01-22</td>\n",
       "      <td>3</td>\n",
       "      <td>2</td>\n",
       "    </tr>\n",
       "    <tr>\n",
       "      <th>4</th>\n",
       "      <td>air_00a91d42b08b08d9</td>\n",
       "      <td>2016-01-29</td>\n",
       "      <td>6</td>\n",
       "      <td>5</td>\n",
       "    </tr>\n",
       "  </tbody>\n",
       "</table>\n",
       "</div>"
      ],
      "text/plain": [
       "           air_store_id  visit_date  reserve_datetime_diff  reserve_visitors\n",
       "0  air_00a91d42b08b08d9  2016-01-14                      3                 2\n",
       "1  air_00a91d42b08b08d9  2016-01-15                      6                 4\n",
       "2  air_00a91d42b08b08d9  2016-01-16                      3                 2\n",
       "3  air_00a91d42b08b08d9  2016-01-22                      3                 2\n",
       "4  air_00a91d42b08b08d9  2016-01-29                      6                 5"
      ]
     },
     "execution_count": 16,
     "metadata": {},
     "output_type": "execute_result"
    }
   ],
   "source": [
    "data['ar'].head()"
   ]
  },
  {
   "cell_type": "markdown",
   "metadata": {},
   "source": [
    "### 3.Perform Feature engineering:\n",
    "1. Extracting day of week, year,month, date part of time stamp from visit_date of training and testing dataframes.\n",
    "2. To match the features in both training and testing dataset, air_store_id in testing dataframe is concatenation of id and visit date , extracting visit_date and id from that air_store_id column of testing dataframe.\n",
    "3.Convert the string data type into numeric datatype for categorical variable using LabelEncoder()\n"
   ]
  },
  {
   "cell_type": "code",
   "execution_count": 7,
   "metadata": {
    "collapsed": true
   },
   "outputs": [],
   "source": [
    "data['tra']['visit_date'] = pd.to_datetime(data['tra']['visit_date'])\n",
    "data['tra']['dow'] = data['tra']['visit_date'].dt.dayofweek\n",
    "data['tra']['year'] = data['tra']['visit_date'].dt.year\n",
    "data['tra']['month'] = data['tra']['visit_date'].dt.month\n",
    "data['tra']['visit_date'] = data['tra']['visit_date'].dt.date\n",
    "\n",
    "data['tes']['visit_date'] = data['tes']['id'].map(lambda x: str(x).split('_')[2])\n",
    "data['tes']['air_store_id'] = data['tes']['id'].map(lambda x: '_'.join(x.split('_')[:2]))\n",
    "data['tes']['visit_date'] = pd.to_datetime(data['tes']['visit_date'])\n",
    "data['tes']['dow'] = data['tes']['visit_date'].dt.dayofweek\n",
    "data['tes']['year'] = data['tes']['visit_date'].dt.year\n",
    "data['tes']['month'] = data['tes']['visit_date'].dt.month\n",
    "data['tes']['visit_date'] = data['tes']['visit_date'].dt.date"
   ]
  },
  {
   "cell_type": "code",
   "execution_count": 8,
   "metadata": {
    "collapsed": true
   },
   "outputs": [],
   "source": [
    "encoder=LabelEncoder()\n",
    "data['hol']['visit_date']=pd.to_datetime(data['hol']['visit_date'])\n",
    "data['hol']['day_of_week']=encoder.fit_transform(data['hol']['day_of_week'])\n",
    "data['hol']['visit_date']=data['hol']['visit_date'].dt.date"
   ]
  },
  {
   "cell_type": "markdown",
   "metadata": {},
   "source": [
    "### 4.Data preparation for training and testing:\n",
    "1. Merging training and testing dataframe with holiday dataframe using left join on column visit_date.\n",
    "2. Checking whether holiday affects no of visitors\n",
    "3. Checking the distibution of no of visitors and if it not normal then taking logarthim to convert the exponential distribution to normal."
   ]
  },
  {
   "cell_type": "code",
   "execution_count": 9,
   "metadata": {
    "collapsed": true
   },
   "outputs": [],
   "source": [
    "# merging training and holiday data frame using left join \n",
    "temp=pd.merge(data['tra'],data['hol'],how='left',on=['visit_date'])\n"
   ]
  },
  {
   "cell_type": "code",
   "execution_count": 10,
   "metadata": {},
   "outputs": [
    {
     "data": {
      "text/plain": [
       "count    239333.000000\n",
       "mean         20.828064\n",
       "std          16.624503\n",
       "min           1.000000\n",
       "25%           9.000000\n",
       "50%          17.000000\n",
       "75%          29.000000\n",
       "max         877.000000\n",
       "Name: visitors, dtype: float64"
      ]
     },
     "execution_count": 10,
     "metadata": {},
     "output_type": "execute_result"
    }
   ],
   "source": [
    "#summary statistic of target variable during working days\n",
    "temp[temp.holiday_flg==0]['visitors'].describe()"
   ]
  },
  {
   "cell_type": "code",
   "execution_count": 11,
   "metadata": {},
   "outputs": [
    {
     "data": {
      "text/plain": [
       "count    12775.000000\n",
       "mean        23.703327\n",
       "std         18.863804\n",
       "min          1.000000\n",
       "25%         10.000000\n",
       "50%         19.000000\n",
       "75%         33.000000\n",
       "max        205.000000\n",
       "Name: visitors, dtype: float64"
      ]
     },
     "execution_count": 11,
     "metadata": {},
     "output_type": "execute_result"
    }
   ],
   "source": [
    "#summary statistic of target variable during holidays\n",
    "temp[temp.holiday_flg==1]['visitors'].describe()"
   ]
  },
  {
   "cell_type": "code",
   "execution_count": 12,
   "metadata": {},
   "outputs": [
    {
     "data": {
      "text/plain": [
       "<matplotlib.axes._subplots.AxesSubplot at 0x1f58f556b38>"
      ]
     },
     "execution_count": 12,
     "metadata": {},
     "output_type": "execute_result"
    },
    {
     "data": {
      "image/png": "[encoded data removed]",
      "text/plain": [
       "<matplotlib.figure.Figure at 0x1f59134ec18>"
      ]
     },
     "metadata": {},
     "output_type": "display_data"
    }
   ],
   "source": [
    "#plotting summary statistics of target variable during holidays and working days\n",
    "import seaborn as sns\n",
    "plt.figure(figsize=(8,8))\n",
    "plt.subplot(111)\n",
    "plt.ylim(0,300)\n",
    "sns.boxplot(temp.holiday_flg,temp.visitors)\n"
   ]
  },
  {
   "cell_type": "code",
   "execution_count": 13,
   "metadata": {},
   "outputs": [
    {
     "data": {
      "text/plain": [
       "<matplotlib.axes._subplots.AxesSubplot at 0x1f590f36ba8>"
      ]
     },
     "execution_count": 13,
     "metadata": {},
     "output_type": "execute_result"
    },
    {
     "data": {
      "image/png": "[encoded data removed]",
      "text/plain": [
       "<matplotlib.figure.Figure at 0x1f5924989b0>"
      ]
     },
     "metadata": {},
     "output_type": "display_data"
    }
   ],
   "source": [
    "# nullify the effect of extreme values taking log-transformation\n",
    "temp['log_visitors']=np.log(temp['visitors'])\n",
    "#plotting to find the distribution after log-transformation\n",
    "temp.log_visitors.plot(kind='kde')"
   ]
  },
  {
   "cell_type": "code",
   "execution_count": 14,
   "metadata": {},
   "outputs": [
    {
     "data": {
      "text/html": [
       "<div>\n",
       "<style>\n",
       "    .dataframe thead tr:only-child th {\n",
       "        text-align: right;\n",
       "    }\n",
       "\n",
       "    .dataframe thead th {\n",
       "        text-align: left;\n",
       "    }\n",
       "\n",
       "    .dataframe tbody tr th {\n",
       "        vertical-align: top;\n",
       "    }\n",
       "</style>\n",
       "<table border=\"1\" class=\"dataframe\">\n",
       "  <thead>\n",
       "    <tr style=\"text-align: right;\">\n",
       "      <th></th>\n",
       "      <th>air_store_id</th>\n",
       "      <th>visit_date</th>\n",
       "      <th>visitors</th>\n",
       "      <th>dow</th>\n",
       "      <th>year</th>\n",
       "      <th>month</th>\n",
       "      <th>day_of_week</th>\n",
       "      <th>holiday_flg</th>\n",
       "      <th>log_visitors</th>\n",
       "    </tr>\n",
       "  </thead>\n",
       "  <tbody>\n",
       "    <tr>\n",
       "      <th>0</th>\n",
       "      <td>air_ba937bf13d40fb24</td>\n",
       "      <td>2016-01-13</td>\n",
       "      <td>25</td>\n",
       "      <td>2</td>\n",
       "      <td>2016</td>\n",
       "      <td>1</td>\n",
       "      <td>6</td>\n",
       "      <td>0</td>\n",
       "      <td>3.218876</td>\n",
       "    </tr>\n",
       "    <tr>\n",
       "      <th>1</th>\n",
       "      <td>air_ba937bf13d40fb24</td>\n",
       "      <td>2016-01-14</td>\n",
       "      <td>32</td>\n",
       "      <td>3</td>\n",
       "      <td>2016</td>\n",
       "      <td>1</td>\n",
       "      <td>4</td>\n",
       "      <td>0</td>\n",
       "      <td>3.465736</td>\n",
       "    </tr>\n",
       "    <tr>\n",
       "      <th>2</th>\n",
       "      <td>air_ba937bf13d40fb24</td>\n",
       "      <td>2016-01-15</td>\n",
       "      <td>29</td>\n",
       "      <td>4</td>\n",
       "      <td>2016</td>\n",
       "      <td>1</td>\n",
       "      <td>0</td>\n",
       "      <td>0</td>\n",
       "      <td>3.367296</td>\n",
       "    </tr>\n",
       "    <tr>\n",
       "      <th>3</th>\n",
       "      <td>air_ba937bf13d40fb24</td>\n",
       "      <td>2016-01-16</td>\n",
       "      <td>22</td>\n",
       "      <td>5</td>\n",
       "      <td>2016</td>\n",
       "      <td>1</td>\n",
       "      <td>2</td>\n",
       "      <td>0</td>\n",
       "      <td>3.091042</td>\n",
       "    </tr>\n",
       "    <tr>\n",
       "      <th>4</th>\n",
       "      <td>air_ba937bf13d40fb24</td>\n",
       "      <td>2016-01-18</td>\n",
       "      <td>6</td>\n",
       "      <td>0</td>\n",
       "      <td>2016</td>\n",
       "      <td>1</td>\n",
       "      <td>1</td>\n",
       "      <td>0</td>\n",
       "      <td>1.791759</td>\n",
       "    </tr>\n",
       "  </tbody>\n",
       "</table>\n",
       "</div>"
      ],
      "text/plain": [
       "           air_store_id  visit_date  visitors  dow  year  month  day_of_week  \\\n",
       "0  air_ba937bf13d40fb24  2016-01-13        25    2  2016      1            6   \n",
       "1  air_ba937bf13d40fb24  2016-01-14        32    3  2016      1            4   \n",
       "2  air_ba937bf13d40fb24  2016-01-15        29    4  2016      1            0   \n",
       "3  air_ba937bf13d40fb24  2016-01-16        22    5  2016      1            2   \n",
       "4  air_ba937bf13d40fb24  2016-01-18         6    0  2016      1            1   \n",
       "\n",
       "   holiday_flg  log_visitors  \n",
       "0            0      3.218876  \n",
       "1            0      3.465736  \n",
       "2            0      3.367296  \n",
       "3            0      3.091042  \n",
       "4            0      1.791759  "
      ]
     },
     "execution_count": 14,
     "metadata": {},
     "output_type": "execute_result"
    }
   ],
   "source": [
    "temp.head()"
   ]
  },
  {
   "cell_type": "markdown",
   "metadata": {},
   "source": [
    "**Checking weather holiday affect no of visitors:**\n",
    "1. Temp dataframe is formed by feature engineering on training dataframe and merging the holiday flag from holiday dataframe\n",
    "2.Finding average no of visitors of each restaurant based on holiday flag using pandas.groupby()\n",
    "3.Visualizing the variation using bar plot. The reason for using bar plot is X axis is categorical variable(ie holiday_flag 0 or 1 )for each restaurant.\n"
   ]
  },
  {
   "cell_type": "code",
   "execution_count": 15,
   "metadata": {},
   "outputs": [
    {
     "data": {
      "text/html": [
       "<div>\n",
       "<style>\n",
       "    .dataframe thead tr:only-child th {\n",
       "        text-align: right;\n",
       "    }\n",
       "\n",
       "    .dataframe thead th {\n",
       "        text-align: left;\n",
       "    }\n",
       "\n",
       "    .dataframe tbody tr th {\n",
       "        vertical-align: top;\n",
       "    }\n",
       "</style>\n",
       "<table border=\"1\" class=\"dataframe\">\n",
       "  <thead>\n",
       "    <tr style=\"text-align: right;\">\n",
       "      <th>holiday_flg</th>\n",
       "      <th>0</th>\n",
       "      <th>1</th>\n",
       "    </tr>\n",
       "    <tr>\n",
       "      <th>air_store_id</th>\n",
       "      <th></th>\n",
       "      <th></th>\n",
       "    </tr>\n",
       "  </thead>\n",
       "  <tbody>\n",
       "    <tr>\n",
       "      <th>air_00a91d42b08b08d9</th>\n",
       "      <td>26.103896</td>\n",
       "      <td>21.000000</td>\n",
       "    </tr>\n",
       "    <tr>\n",
       "      <th>air_0164b9927d20bcc3</th>\n",
       "      <td>9.291667</td>\n",
       "      <td>8.000000</td>\n",
       "    </tr>\n",
       "    <tr>\n",
       "      <th>air_0241aa3964b7f861</th>\n",
       "      <td>9.883905</td>\n",
       "      <td>10.176471</td>\n",
       "    </tr>\n",
       "    <tr>\n",
       "      <th>air_0328696196e46f18</th>\n",
       "      <td>7.981818</td>\n",
       "      <td>7.166667</td>\n",
       "    </tr>\n",
       "    <tr>\n",
       "      <th>air_034a3d5b40d5b1b1</th>\n",
       "      <td>14.855932</td>\n",
       "      <td>14.400000</td>\n",
       "    </tr>\n",
       "  </tbody>\n",
       "</table>\n",
       "</div>"
      ],
      "text/plain": [
       "holiday_flg                   0          1\n",
       "air_store_id                              \n",
       "air_00a91d42b08b08d9  26.103896  21.000000\n",
       "air_0164b9927d20bcc3   9.291667   8.000000\n",
       "air_0241aa3964b7f861   9.883905  10.176471\n",
       "air_0328696196e46f18   7.981818   7.166667\n",
       "air_034a3d5b40d5b1b1  14.855932  14.400000"
      ]
     },
     "execution_count": 15,
     "metadata": {},
     "output_type": "execute_result"
    }
   ],
   "source": [
    "\n",
    "#checking \n",
    "visitor_cnt_hold=temp.groupby(['air_store_id','holiday_flg'],as_index=False)['visitors'].mean()\n",
    "visitor_cnt=visitor_cnt_hold.pivot_table(values='visitors',index='air_store_id',columns='holiday_flg')\n",
    "visitor_cnt.head()"
   ]
  },
  {
   "cell_type": "code",
   "execution_count": 16,
   "metadata": {},
   "outputs": [
    {
     "data": {
      "text/plain": [
       "<matplotlib.axes._subplots.AxesSubplot at 0x1f595f25be0>"
      ]
     },
     "execution_count": 16,
     "metadata": {},
     "output_type": "execute_result"
    },
    {
     "data": {
      "image/png": "[encoded data removed]",
      "text/plain": [
       "<matplotlib.figure.Figure at 0x1f59601fc18>"
      ]
     },
     "metadata": {},
     "output_type": "display_data"
    }
   ],
   "source": [
    "vis_100_cnt=visitor_cnt[:100]\n",
    "\n",
    "vis_100_cnt.plot(kind='bar',figsize=(20,20))"
   ]
  },
  {
   "cell_type": "markdown",
   "metadata": {},
   "source": [
    "* The plot shows that holiday affects the no of visitors.Based on location of the restaurant the no of visitors varies on holidays. \n",
    "* It make sense to filter no of visitors from training data only to include rows when there is no holidays,and resulting data frame is named as temp_no_holiday.\n"
   ]
  },
  {
   "cell_type": "markdown",
   "metadata": {},
   "source": [
    "### Conversion of time series data set into supervised machine learning:\n",
    "* 1.Time series problem can be framed as supervised learning problem. This will opens up a lot of linear and non linear supervised machine learning algorithm on my problem.This can be done using the previous time steps as input variable and next time step as output variable. The number of previous time steps is called the window width or size of the lag. This method referred as sliding window method for time series data.\n",
    "**Reason for the conversion :**\n",
    "* In timeseries forecast problem, input will be time and output will be no of visitors or amount of sales, stock value etc.\n",
    "* When you are training the model to forecast no of visitors, input will be the timestamp because time stamp and no of  visitors are related but they are weakly correlated\n",
    "* Using that as input and if we train the model the output produced will not be accurate. \n",
    "* To overcome this problem, instead of giving timestamp as input will replace with previous year/previous month  average no fo visitor (depending on the problem) as input which is strongly correlated with current no of visitors. If we train previous time step data as input , output produced will be accurate and model will robust by capturing the trend and seasonality in the data set.\n",
    "**Framing Time series to supervised learning problem**\n",
    "* The trend and seasonality pattern in the data set  can be captured in conversion by including previous year's day of the week average no of visitors. But the training data given for this problem does not have enough data to include previous year day of week  average, so I have taken previous two months day of week average no of visitors. I \n",
    "* This done using groupby in pandas and helper fucntion.\n",
    "* groupby: Used to compute the every month's day of week average no of visitor for each restaurant on temp data frame. The output of groupby of temp_no_holiday data frame is stores data frame, which has following column\n",
    "* 1.air_store_id\t\n",
    "* 2.year\t\n",
    "* 3.month\t\n",
    "* 4.dow\t\n",
    "* 5.avg_visitors\t\n",
    "* 6. avg_log_visitors\n",
    "* create two copies of stores data frame and stored as stores_NH and sotres_NH_1 dataframe.\n",
    "* Helper function(compute_shift(data)) : This function used to increment the  values in month column of stores_NH dataframe by 1. After incrementing 1, the values in month column incremented from 2 to 13. But month ranges from 1 to 12. values of 13 in month column should be changed to 1 and values of year in that row should also incremnted by one.It refers to first month in next year. \n",
    "* compute_shift_1(data): This function used to increment the  values in month column of stores_NH_1 dataframe by 2. After incrementing by 2, the values in month column incremented from 3 to 14. But month ranges from 1 to 12. values of  month greater than 12 is replaced with (current value of month - 12)  and values of year in that row should also incremnted by one.\n",
    "* After incrementing Month and year values in stores_NH dataframe, then merging stores_NH and temp dataframe based on 'air_store_id','year','month','dow' using left join, previous month day of week average visitors will be joined to current month .ie when month 7 is incremented to 8 when we perform left join with training data based on 'air_store_id','year','month','dow',8th month day of week average is merged to 8th month dow of each restaurant in training data but that 8 month average month visitor value is actually average value of 7th month. After merging in each row you have visitors on that day plus previous month that day of week visitors average.\n",
    "* After incrementing Month and year values in stores_NH_1 dataframe, then merging stores_NH_1 and temp dataframe based on 'air_store_id','year','month','dow', two month ago  day of week average visitors will be joined to current month .ie when month 7 is incremented to 9 when we perform left join with training data based on 'air_store_id','year','month','dow',9th month day of week average is merged to 9th month dow of each restaurant in training data but that 9 month average month visitor value is actually average value of 7th month. After merging in each row you have visitors on that day plus month before previous month's  day of week visitors average visitor.\n",
    "* The output of above operation is stored in train dataframe. Now this dataframe holds daily no of visitors information along with previous month day of week average visitors and two months ago day of week average visitors.\n",
    "* Again stores_NH and stores_NH_1 are merged with test data frame.The result of this operation is stored in test. Now this data frame has previous month's and month before previous month's day of week average no of visitors . But daily no of visitor is zero which has to be predicted.\n",
    "* The merging operation mentioned above is done using left join so that training and test dataframe information is retained when the values for row in training and testing is not found in other dataframe we are merging with. These values are filled with NAN value.\n",
    "* Now when training the model, input which is previous month day of week average no of visitors of current month and output will be no of visitors of current month. These arestrongly correlated.\n",
    "* hence the conversion."
   ]
  },
  {
   "cell_type": "code",
   "execution_count": 17,
   "metadata": {
    "collapsed": true
   },
   "outputs": [],
   "source": [
    "#filtering visitors of restaurants on working days\n",
    "temp_no_hold=temp[temp.holiday_flg==0]\n",
    "#finding average day of week in a month visitors \n",
    "stores=temp_no_hold.groupby(['air_store_id','year',\n",
    "                'month','dow'],as_index=False).mean().rename(columns={'visitors':'avg_visitors','log_visitors':'avg_log_visitors'})\n",
    "stores.drop(['day_of_week','holiday_flg'],axis=1,inplace=True)\n",
    "stores_NH=stores.copy()\n",
    "stores_NH_1=stores.copy()"
   ]
  },
  {
   "cell_type": "code",
   "execution_count": 18,
   "metadata": {},
   "outputs": [
    {
     "data": {
      "text/html": [
       "<div>\n",
       "<style>\n",
       "    .dataframe thead tr:only-child th {\n",
       "        text-align: right;\n",
       "    }\n",
       "\n",
       "    .dataframe thead th {\n",
       "        text-align: left;\n",
       "    }\n",
       "\n",
       "    .dataframe tbody tr th {\n",
       "        vertical-align: top;\n",
       "    }\n",
       "</style>\n",
       "<table border=\"1\" class=\"dataframe\">\n",
       "  <thead>\n",
       "    <tr style=\"text-align: right;\">\n",
       "      <th></th>\n",
       "      <th>air_store_id</th>\n",
       "      <th>year</th>\n",
       "      <th>month</th>\n",
       "      <th>dow</th>\n",
       "      <th>avg_visitors</th>\n",
       "      <th>avg_log_visitors</th>\n",
       "    </tr>\n",
       "  </thead>\n",
       "  <tbody>\n",
       "    <tr>\n",
       "      <th>0</th>\n",
       "      <td>air_00a91d42b08b08d9</td>\n",
       "      <td>2016</td>\n",
       "      <td>7</td>\n",
       "      <td>0</td>\n",
       "      <td>20.333333</td>\n",
       "      <td>2.995732</td>\n",
       "    </tr>\n",
       "    <tr>\n",
       "      <th>1</th>\n",
       "      <td>air_00a91d42b08b08d9</td>\n",
       "      <td>2016</td>\n",
       "      <td>7</td>\n",
       "      <td>1</td>\n",
       "      <td>22.500000</td>\n",
       "      <td>3.097099</td>\n",
       "    </tr>\n",
       "    <tr>\n",
       "      <th>2</th>\n",
       "      <td>air_00a91d42b08b08d9</td>\n",
       "      <td>2016</td>\n",
       "      <td>7</td>\n",
       "      <td>2</td>\n",
       "      <td>27.000000</td>\n",
       "      <td>3.268327</td>\n",
       "    </tr>\n",
       "    <tr>\n",
       "      <th>3</th>\n",
       "      <td>air_00a91d42b08b08d9</td>\n",
       "      <td>2016</td>\n",
       "      <td>7</td>\n",
       "      <td>3</td>\n",
       "      <td>35.750000</td>\n",
       "      <td>3.558768</td>\n",
       "    </tr>\n",
       "    <tr>\n",
       "      <th>4</th>\n",
       "      <td>air_00a91d42b08b08d9</td>\n",
       "      <td>2016</td>\n",
       "      <td>7</td>\n",
       "      <td>4</td>\n",
       "      <td>37.800000</td>\n",
       "      <td>3.605900</td>\n",
       "    </tr>\n",
       "  </tbody>\n",
       "</table>\n",
       "</div>"
      ],
      "text/plain": [
       "           air_store_id  year  month  dow  avg_visitors  avg_log_visitors\n",
       "0  air_00a91d42b08b08d9  2016      7    0     20.333333          2.995732\n",
       "1  air_00a91d42b08b08d9  2016      7    1     22.500000          3.097099\n",
       "2  air_00a91d42b08b08d9  2016      7    2     27.000000          3.268327\n",
       "3  air_00a91d42b08b08d9  2016      7    3     35.750000          3.558768\n",
       "4  air_00a91d42b08b08d9  2016      7    4     37.800000          3.605900"
      ]
     },
     "execution_count": 18,
     "metadata": {},
     "output_type": "execute_result"
    }
   ],
   "source": [
    "stores.head()"
   ]
  },
  {
   "cell_type": "code",
   "execution_count": 19,
   "metadata": {},
   "outputs": [
    {
     "name": "stdout",
     "output_type": "stream",
     "text": [
      "<class 'pandas.core.frame.DataFrame'>\n",
      "Int64Index: 65444 entries, 0 to 65443\n",
      "Data columns (total 6 columns):\n",
      "air_store_id        65444 non-null object\n",
      "year                65444 non-null int64\n",
      "dow                 65444 non-null int64\n",
      "avg_visitors        65444 non-null float64\n",
      "avg_log_visitors    65444 non-null float64\n",
      "month               65444 non-null int64\n",
      "dtypes: float64(2), int64(3), object(1)\n",
      "memory usage: 3.5+ MB\n"
     ]
    }
   ],
   "source": [
    "def compute_shift(data):\n",
    "        return(data+1)\n",
    "            \n",
    "stores_NH[\"Month\"]=stores_NH.month.apply(compute_shift)\n",
    "stores_NH.head()\n",
    "stores_NH.loc[(stores_NH.Month>12),'year']=stores_NH.year+1\n",
    "stores_NH.loc[(stores_NH.Month>12),'Month']=stores_NH.month-12\n",
    "stores_NH.drop('month',axis=1,inplace=True)\n",
    "stores_NH.rename(columns={'Month':'month'},inplace=True)\n",
    "\n",
    "stores_NH.info()"
   ]
  },
  {
   "cell_type": "code",
   "execution_count": 30,
   "metadata": {},
   "outputs": [
    {
     "data": {
      "text/html": [
       "<div>\n",
       "<style>\n",
       "    .dataframe thead tr:only-child th {\n",
       "        text-align: right;\n",
       "    }\n",
       "\n",
       "    .dataframe thead th {\n",
       "        text-align: left;\n",
       "    }\n",
       "\n",
       "    .dataframe tbody tr th {\n",
       "        vertical-align: top;\n",
       "    }\n",
       "</style>\n",
       "<table border=\"1\" class=\"dataframe\">\n",
       "  <thead>\n",
       "    <tr style=\"text-align: right;\">\n",
       "      <th></th>\n",
       "      <th>air_store_id</th>\n",
       "      <th>year</th>\n",
       "      <th>dow</th>\n",
       "      <th>avg_visitors</th>\n",
       "      <th>avg_log_visitors</th>\n",
       "      <th>month</th>\n",
       "    </tr>\n",
       "  </thead>\n",
       "  <tbody>\n",
       "    <tr>\n",
       "      <th>0</th>\n",
       "      <td>air_00a91d42b08b08d9</td>\n",
       "      <td>2016</td>\n",
       "      <td>0</td>\n",
       "      <td>20.333333</td>\n",
       "      <td>2.995732</td>\n",
       "      <td>8</td>\n",
       "    </tr>\n",
       "    <tr>\n",
       "      <th>1</th>\n",
       "      <td>air_00a91d42b08b08d9</td>\n",
       "      <td>2016</td>\n",
       "      <td>1</td>\n",
       "      <td>22.500000</td>\n",
       "      <td>3.097099</td>\n",
       "      <td>8</td>\n",
       "    </tr>\n",
       "    <tr>\n",
       "      <th>2</th>\n",
       "      <td>air_00a91d42b08b08d9</td>\n",
       "      <td>2016</td>\n",
       "      <td>2</td>\n",
       "      <td>27.000000</td>\n",
       "      <td>3.268327</td>\n",
       "      <td>8</td>\n",
       "    </tr>\n",
       "    <tr>\n",
       "      <th>3</th>\n",
       "      <td>air_00a91d42b08b08d9</td>\n",
       "      <td>2016</td>\n",
       "      <td>3</td>\n",
       "      <td>35.750000</td>\n",
       "      <td>3.558768</td>\n",
       "      <td>8</td>\n",
       "    </tr>\n",
       "    <tr>\n",
       "      <th>4</th>\n",
       "      <td>air_00a91d42b08b08d9</td>\n",
       "      <td>2016</td>\n",
       "      <td>4</td>\n",
       "      <td>37.800000</td>\n",
       "      <td>3.605900</td>\n",
       "      <td>8</td>\n",
       "    </tr>\n",
       "  </tbody>\n",
       "</table>\n",
       "</div>"
      ],
      "text/plain": [
       "           air_store_id  year  dow  avg_visitors  avg_log_visitors  month\n",
       "0  air_00a91d42b08b08d9  2016    0     20.333333          2.995732      8\n",
       "1  air_00a91d42b08b08d9  2016    1     22.500000          3.097099      8\n",
       "2  air_00a91d42b08b08d9  2016    2     27.000000          3.268327      8\n",
       "3  air_00a91d42b08b08d9  2016    3     35.750000          3.558768      8\n",
       "4  air_00a91d42b08b08d9  2016    4     37.800000          3.605900      8"
      ]
     },
     "execution_count": 30,
     "metadata": {},
     "output_type": "execute_result"
    }
   ],
   "source": [
    "stores_NH.head()"
   ]
  },
  {
   "cell_type": "code",
   "execution_count": 20,
   "metadata": {
    "collapsed": true
   },
   "outputs": [],
   "source": [
    "def compute_shift_1(data):\n",
    "        return(data+2)\n",
    "            \n",
    "stores_NH_1[\"Month\"]=stores_NH_1.month.apply(compute_shift_1)\n",
    "stores_NH_1.head()\n",
    "stores_NH_1.loc[(stores_NH_1.Month>12),'year']=stores_NH_1.year+1\n",
    "stores_NH_1.loc[(stores_NH_1.Month>12),'Month']=stores_NH_1.Month-12\n",
    "\n"
   ]
  },
  {
   "cell_type": "code",
   "execution_count": 32,
   "metadata": {},
   "outputs": [
    {
     "data": {
      "text/html": [
       "<div>\n",
       "<style>\n",
       "    .dataframe thead tr:only-child th {\n",
       "        text-align: right;\n",
       "    }\n",
       "\n",
       "    .dataframe thead th {\n",
       "        text-align: left;\n",
       "    }\n",
       "\n",
       "    .dataframe tbody tr th {\n",
       "        vertical-align: top;\n",
       "    }\n",
       "</style>\n",
       "<table border=\"1\" class=\"dataframe\">\n",
       "  <thead>\n",
       "    <tr style=\"text-align: right;\">\n",
       "      <th></th>\n",
       "      <th>air_store_id</th>\n",
       "      <th>year</th>\n",
       "      <th>month</th>\n",
       "      <th>dow</th>\n",
       "      <th>avg_visitors</th>\n",
       "      <th>avg_log_visitors</th>\n",
       "      <th>Month</th>\n",
       "    </tr>\n",
       "  </thead>\n",
       "  <tbody>\n",
       "    <tr>\n",
       "      <th>0</th>\n",
       "      <td>air_00a91d42b08b08d9</td>\n",
       "      <td>2016</td>\n",
       "      <td>7</td>\n",
       "      <td>0</td>\n",
       "      <td>20.333333</td>\n",
       "      <td>2.995732</td>\n",
       "      <td>9</td>\n",
       "    </tr>\n",
       "    <tr>\n",
       "      <th>1</th>\n",
       "      <td>air_00a91d42b08b08d9</td>\n",
       "      <td>2016</td>\n",
       "      <td>7</td>\n",
       "      <td>1</td>\n",
       "      <td>22.500000</td>\n",
       "      <td>3.097099</td>\n",
       "      <td>9</td>\n",
       "    </tr>\n",
       "    <tr>\n",
       "      <th>2</th>\n",
       "      <td>air_00a91d42b08b08d9</td>\n",
       "      <td>2016</td>\n",
       "      <td>7</td>\n",
       "      <td>2</td>\n",
       "      <td>27.000000</td>\n",
       "      <td>3.268327</td>\n",
       "      <td>9</td>\n",
       "    </tr>\n",
       "    <tr>\n",
       "      <th>3</th>\n",
       "      <td>air_00a91d42b08b08d9</td>\n",
       "      <td>2016</td>\n",
       "      <td>7</td>\n",
       "      <td>3</td>\n",
       "      <td>35.750000</td>\n",
       "      <td>3.558768</td>\n",
       "      <td>9</td>\n",
       "    </tr>\n",
       "    <tr>\n",
       "      <th>4</th>\n",
       "      <td>air_00a91d42b08b08d9</td>\n",
       "      <td>2016</td>\n",
       "      <td>7</td>\n",
       "      <td>4</td>\n",
       "      <td>37.800000</td>\n",
       "      <td>3.605900</td>\n",
       "      <td>9</td>\n",
       "    </tr>\n",
       "  </tbody>\n",
       "</table>\n",
       "</div>"
      ],
      "text/plain": [
       "           air_store_id  year  month  dow  avg_visitors  avg_log_visitors  \\\n",
       "0  air_00a91d42b08b08d9  2016      7    0     20.333333          2.995732   \n",
       "1  air_00a91d42b08b08d9  2016      7    1     22.500000          3.097099   \n",
       "2  air_00a91d42b08b08d9  2016      7    2     27.000000          3.268327   \n",
       "3  air_00a91d42b08b08d9  2016      7    3     35.750000          3.558768   \n",
       "4  air_00a91d42b08b08d9  2016      7    4     37.800000          3.605900   \n",
       "\n",
       "   Month  \n",
       "0      9  \n",
       "1      9  \n",
       "2      9  \n",
       "3      9  \n",
       "4      9  "
      ]
     },
     "execution_count": 32,
     "metadata": {},
     "output_type": "execute_result"
    }
   ],
   "source": [
    "stores_NH_1.head()"
   ]
  },
  {
   "cell_type": "code",
   "execution_count": 21,
   "metadata": {},
   "outputs": [
    {
     "name": "stdout",
     "output_type": "stream",
     "text": [
      "<class 'pandas.core.frame.DataFrame'>\n",
      "Int64Index: 65444 entries, 0 to 65443\n",
      "Data columns (total 6 columns):\n",
      "air_store_id        65444 non-null object\n",
      "year                65444 non-null int64\n",
      "dow                 65444 non-null int64\n",
      "avg_visitors        65444 non-null float64\n",
      "avg_log_visitors    65444 non-null float64\n",
      "month               65444 non-null int64\n",
      "dtypes: float64(2), int64(3), object(1)\n",
      "memory usage: 3.5+ MB\n"
     ]
    }
   ],
   "source": [
    "stores_NH_1.drop('month',axis=1,inplace=True)\n",
    "stores_NH_1.rename(columns={'Month':'month'},inplace=True)\n",
    "\n",
    "stores_NH_1.info()\n"
   ]
  },
  {
   "cell_type": "code",
   "execution_count": 22,
   "metadata": {
    "collapsed": true
   },
   "outputs": [],
   "source": [
    "temp=pd.merge(temp,stores_NH,how='inner',on=['air_store_id','year','month','dow'])\n",
    "temp.drop('day_of_week',axis=1,inplace=True)\n",
    "#Preparing test and train data set\n",
    "test=data['tes']\n",
    "train=temp\n",
    "test=pd.merge(test,stores_NH,how='left',on=['air_store_id','year','month','dow'])\n",
    "train=pd.merge(train,stores_NH_1,how='inner',on=['air_store_id','year','month','dow'])\n",
    "test=pd.merge(test,stores_NH_1,how='left',on=['air_store_id','year','month','dow'])"
   ]
  },
  {
   "cell_type": "markdown",
   "metadata": {},
   "source": [
    "### Preparing training and testing dataset:\n",
    "* Now training and testing data has previous month's average no of visitors and daily visitors count for each restaurant.\n",
    "* No of visitors to restaurant also related by location, cusines. This informations are found in data['as'] data frame.\n",
    "* Merging training,testing with data['as'] using left join. So training and test dataset is retained even if there is no match found in other dataframe. Those values are replaced by NAN values.\n",
    "* Genre_name,area_name are categorical value which can be converted into numerical values using Label_encoder().\n"
   ]
  },
  {
   "cell_type": "code",
   "execution_count": 23,
   "metadata": {
    "collapsed": true
   },
   "outputs": [],
   "source": [
    "\n",
    "#Merging the restaurant in test and train with store information like genre, location, lattitude and longitude\n",
    "test=pd.merge(test,data['as'],how='left',on=['air_store_id'])\n",
    "train=pd.merge(train,data['as'],how='left',on=['air_store_id'])\n",
    "encoder=LabelEncoder()\n",
    "\n",
    "train['air_genre_name']=encoder.fit_transform(train['air_genre_name'])\n",
    "test['air_genre_name']=encoder.transform(test['air_genre_name'])\n",
    "train['air_area_name']=encoder.fit_transform(train['air_area_name'])\n",
    "test['air_area_name']=encoder.fit_transform(test['air_area_name'])\n",
    "test=pd.merge(test,data['hol'],how='left',on=['visit_date'])\n"
   ]
  },
  {
   "cell_type": "code",
   "execution_count": 36,
   "metadata": {},
   "outputs": [
    {
     "data": {
      "text/html": [
       "<div>\n",
       "<style>\n",
       "    .dataframe thead tr:only-child th {\n",
       "        text-align: right;\n",
       "    }\n",
       "\n",
       "    .dataframe thead th {\n",
       "        text-align: left;\n",
       "    }\n",
       "\n",
       "    .dataframe tbody tr th {\n",
       "        vertical-align: top;\n",
       "    }\n",
       "</style>\n",
       "<table border=\"1\" class=\"dataframe\">\n",
       "  <thead>\n",
       "    <tr style=\"text-align: right;\">\n",
       "      <th></th>\n",
       "      <th>air_store_id</th>\n",
       "      <th>visit_date</th>\n",
       "      <th>visitors</th>\n",
       "      <th>dow</th>\n",
       "      <th>year</th>\n",
       "      <th>month</th>\n",
       "      <th>holiday_flg</th>\n",
       "      <th>log_visitors</th>\n",
       "      <th>avg_visitors_x</th>\n",
       "      <th>avg_log_visitors_x</th>\n",
       "      <th>avg_visitors_y</th>\n",
       "      <th>avg_log_visitors_y</th>\n",
       "      <th>air_genre_name</th>\n",
       "      <th>air_area_name</th>\n",
       "      <th>latitude</th>\n",
       "      <th>longitude</th>\n",
       "    </tr>\n",
       "  </thead>\n",
       "  <tbody>\n",
       "    <tr>\n",
       "      <th>0</th>\n",
       "      <td>air_ba937bf13d40fb24</td>\n",
       "      <td>2016-03-01</td>\n",
       "      <td>19</td>\n",
       "      <td>1</td>\n",
       "      <td>2016</td>\n",
       "      <td>3</td>\n",
       "      <td>0</td>\n",
       "      <td>2.944439</td>\n",
       "      <td>15.333333</td>\n",
       "      <td>2.729563</td>\n",
       "      <td>10.0</td>\n",
       "      <td>2.29756</td>\n",
       "      <td>4</td>\n",
       "      <td>62</td>\n",
       "      <td>35.658068</td>\n",
       "      <td>139.751599</td>\n",
       "    </tr>\n",
       "    <tr>\n",
       "      <th>1</th>\n",
       "      <td>air_ba937bf13d40fb24</td>\n",
       "      <td>2016-03-08</td>\n",
       "      <td>8</td>\n",
       "      <td>1</td>\n",
       "      <td>2016</td>\n",
       "      <td>3</td>\n",
       "      <td>0</td>\n",
       "      <td>2.079442</td>\n",
       "      <td>15.333333</td>\n",
       "      <td>2.729563</td>\n",
       "      <td>10.0</td>\n",
       "      <td>2.29756</td>\n",
       "      <td>4</td>\n",
       "      <td>62</td>\n",
       "      <td>35.658068</td>\n",
       "      <td>139.751599</td>\n",
       "    </tr>\n",
       "    <tr>\n",
       "      <th>2</th>\n",
       "      <td>air_ba937bf13d40fb24</td>\n",
       "      <td>2016-03-15</td>\n",
       "      <td>20</td>\n",
       "      <td>1</td>\n",
       "      <td>2016</td>\n",
       "      <td>3</td>\n",
       "      <td>0</td>\n",
       "      <td>2.995732</td>\n",
       "      <td>15.333333</td>\n",
       "      <td>2.729563</td>\n",
       "      <td>10.0</td>\n",
       "      <td>2.29756</td>\n",
       "      <td>4</td>\n",
       "      <td>62</td>\n",
       "      <td>35.658068</td>\n",
       "      <td>139.751599</td>\n",
       "    </tr>\n",
       "    <tr>\n",
       "      <th>3</th>\n",
       "      <td>air_ba937bf13d40fb24</td>\n",
       "      <td>2016-03-22</td>\n",
       "      <td>17</td>\n",
       "      <td>1</td>\n",
       "      <td>2016</td>\n",
       "      <td>3</td>\n",
       "      <td>0</td>\n",
       "      <td>2.833213</td>\n",
       "      <td>15.333333</td>\n",
       "      <td>2.729563</td>\n",
       "      <td>10.0</td>\n",
       "      <td>2.29756</td>\n",
       "      <td>4</td>\n",
       "      <td>62</td>\n",
       "      <td>35.658068</td>\n",
       "      <td>139.751599</td>\n",
       "    </tr>\n",
       "    <tr>\n",
       "      <th>4</th>\n",
       "      <td>air_ba937bf13d40fb24</td>\n",
       "      <td>2016-03-29</td>\n",
       "      <td>19</td>\n",
       "      <td>1</td>\n",
       "      <td>2016</td>\n",
       "      <td>3</td>\n",
       "      <td>0</td>\n",
       "      <td>2.944439</td>\n",
       "      <td>15.333333</td>\n",
       "      <td>2.729563</td>\n",
       "      <td>10.0</td>\n",
       "      <td>2.29756</td>\n",
       "      <td>4</td>\n",
       "      <td>62</td>\n",
       "      <td>35.658068</td>\n",
       "      <td>139.751599</td>\n",
       "    </tr>\n",
       "  </tbody>\n",
       "</table>\n",
       "</div>"
      ],
      "text/plain": [
       "           air_store_id  visit_date  visitors  dow  year  month  holiday_flg  \\\n",
       "0  air_ba937bf13d40fb24  2016-03-01        19    1  2016      3            0   \n",
       "1  air_ba937bf13d40fb24  2016-03-08         8    1  2016      3            0   \n",
       "2  air_ba937bf13d40fb24  2016-03-15        20    1  2016      3            0   \n",
       "3  air_ba937bf13d40fb24  2016-03-22        17    1  2016      3            0   \n",
       "4  air_ba937bf13d40fb24  2016-03-29        19    1  2016      3            0   \n",
       "\n",
       "   log_visitors  avg_visitors_x  avg_log_visitors_x  avg_visitors_y  \\\n",
       "0      2.944439       15.333333            2.729563            10.0   \n",
       "1      2.079442       15.333333            2.729563            10.0   \n",
       "2      2.995732       15.333333            2.729563            10.0   \n",
       "3      2.833213       15.333333            2.729563            10.0   \n",
       "4      2.944439       15.333333            2.729563            10.0   \n",
       "\n",
       "   avg_log_visitors_y  air_genre_name  air_area_name   latitude   longitude  \n",
       "0             2.29756               4             62  35.658068  139.751599  \n",
       "1             2.29756               4             62  35.658068  139.751599  \n",
       "2             2.29756               4             62  35.658068  139.751599  \n",
       "3             2.29756               4             62  35.658068  139.751599  \n",
       "4             2.29756               4             62  35.658068  139.751599  "
      ]
     },
     "execution_count": 36,
     "metadata": {},
     "output_type": "execute_result"
    }
   ],
   "source": [
    "train.head()"
   ]
  },
  {
   "cell_type": "code",
   "execution_count": 24,
   "metadata": {
    "collapsed": true
   },
   "outputs": [],
   "source": [
    "train.rename(columns={'avg_visitors_x':'p1m_avg_visitors','avg_log_visitors_x':'p1m_avg_log_visitors','avg_visitors_y':'p2m_avg_visitors','avg_log_visitors_y':'p2m_avg_log_visitors'},inplace=True)\n",
    "test.rename(columns={'avg_visitors_x':'p1m_avg_visitors','avg_log_visitors_x':'p1m_avg_log_visitors','avg_visitors_y':'p2m_avg_visitors','avg_log_visitors_y':'p2m_avg_log_visitors'},inplace=True)"
   ]
  },
  {
   "cell_type": "code",
   "execution_count": 25,
   "metadata": {},
   "outputs": [
    {
     "name": "stdout",
     "output_type": "stream",
     "text": [
      "<class 'pandas.core.frame.DataFrame'>\n",
      "Int64Index: 32019 entries, 0 to 32018\n",
      "Data columns (total 17 columns):\n",
      "id                      32019 non-null object\n",
      "visitors                32019 non-null int64\n",
      "visit_date              32019 non-null object\n",
      "air_store_id            32019 non-null object\n",
      "dow                     32019 non-null int64\n",
      "year                    32019 non-null int64\n",
      "month                   32019 non-null int64\n",
      "p1m_avg_visitors        29759 non-null float64\n",
      "p1m_avg_log_visitors    29759 non-null float64\n",
      "p2m_avg_visitors        29839 non-null float64\n",
      "p2m_avg_log_visitors    29839 non-null float64\n",
      "air_genre_name          32019 non-null int64\n",
      "air_area_name           32019 non-null int64\n",
      "latitude                32019 non-null float64\n",
      "longitude               32019 non-null float64\n",
      "day_of_week             32019 non-null int64\n",
      "holiday_flg             32019 non-null int64\n",
      "dtypes: float64(6), int64(8), object(3)\n",
      "memory usage: 4.4+ MB\n"
     ]
    }
   ],
   "source": [
    "test.info()"
   ]
  },
  {
   "cell_type": "code",
   "execution_count": 26,
   "metadata": {},
   "outputs": [
    {
     "name": "stdout",
     "output_type": "stream",
     "text": [
      "<class 'pandas.core.frame.DataFrame'>\n",
      "Int64Index: 187058 entries, 0 to 187057\n",
      "Data columns (total 16 columns):\n",
      "air_store_id            187058 non-null object\n",
      "visit_date              187058 non-null object\n",
      "visitors                187058 non-null int64\n",
      "dow                     187058 non-null int64\n",
      "year                    187058 non-null int64\n",
      "month                   187058 non-null int64\n",
      "holiday_flg             187058 non-null int64\n",
      "log_visitors            187058 non-null float64\n",
      "p1m_avg_visitors        187058 non-null float64\n",
      "p1m_avg_log_visitors    187058 non-null float64\n",
      "p2m_avg_visitors        187058 non-null float64\n",
      "p2m_avg_log_visitors    187058 non-null float64\n",
      "air_genre_name          187058 non-null int64\n",
      "air_area_name           187058 non-null int64\n",
      "latitude                187058 non-null float64\n",
      "longitude               187058 non-null float64\n",
      "dtypes: float64(7), int64(7), object(2)\n",
      "memory usage: 24.3+ MB\n"
     ]
    }
   ],
   "source": [
    "train.info()"
   ]
  },
  {
   "cell_type": "markdown",
   "metadata": {},
   "source": [
    "### Handling Missing values:\n",
    "In testing dataframe:\n",
    "p1m_avg_visitors     :  Previous month's day of week average no of visitors.\n",
    "p1m_avg_log_visitors :  Previous month day of week average no of visitors computed by log_transformed on no of visitors..  \n",
    "p2m_avg_visitors      :  Two months ago day of week average no of visitors.\n",
    "p2m_avg_log_visitors  :  Two months ago, day of week average no of visitors computed by log_transformed on no of visitors.\n",
    "These columns in testing data set have NAN values, which is filled by following ways\n",
    "* 1.Compute yearly, day of week average no of visitors of temp_no_holiday dataframe   and result is stored in avgdow_yearly dataframe.\n",
    "* 2.Then merge this dataframe with test dataframe.Then fill the missing values in above columns from avg_visitors and log_avg_visitors columns of avgdow_yearly dataframe.\n",
    "* After merging operation,the above four columns have NAN values but has reduced from previous count.\n",
    "* To fill those miising values, compute the day of week month average no of visitors for restaurants in same area and serves same cusine using groupby in pandas.\n",
    "* The result of above operation is stored as cusines dataframe. Since the average is computed monthly we will use compute_shift and compute_shift_1 function to increment month and year values. And the result is sttored as cusines_p1m and cusines_p2m dataframes.\n",
    "* Then merges these dataframes with test dataframe and fill the missing value from column in test dataframe with columns from cusines_p1m and cusines_p2m dataframes.\n",
    "* After filling the NAN values , columns included in test dataframe as a result of merging is dropped.\n",
    "* This merging operation reduces NAN and remaing NAN is replaced with negative 1.\n"
   ]
  },
  {
   "cell_type": "code",
   "execution_count": 27,
   "metadata": {
    "collapsed": true
   },
   "outputs": [],
   "source": [
    "#compute yearly day of week's average number of customers.\n",
    "avgdow_yearly=temp_no_hold.groupby(['air_store_id','year','dow'],as_index=False)['visitors','log_visitors'].mean().rename(columns={'visitors':'avg_visitors','log_visitors':'avg_log_visitors'})"
   ]
  },
  {
   "cell_type": "code",
   "execution_count": 28,
   "metadata": {
    "collapsed": true
   },
   "outputs": [],
   "source": [
    "\n",
    "#Mergin that with test data to fill mising values\n",
    "test=pd.merge(test,avgdow_yearly,how='left',on=['air_store_id','year','dow'])"
   ]
  },
  {
   "cell_type": "code",
   "execution_count": 29,
   "metadata": {
    "collapsed": true
   },
   "outputs": [],
   "source": [
    "test.p1m_avg_visitors.fillna(test.avg_visitors,inplace=True)\n",
    "test.p2m_avg_visitors.fillna(test.avg_visitors,inplace=True)\n",
    "test.p1m_avg_log_visitors.fillna(test.avg_log_visitors,inplace=True)\n",
    "test.p2m_avg_log_visitors.fillna(test.avg_log_visitors,inplace=True)\n",
    "test.drop(['avg_visitors','avg_log_visitors'],axis=1,inplace=True)\n"
   ]
  },
  {
   "cell_type": "code",
   "execution_count": 30,
   "metadata": {},
   "outputs": [
    {
     "name": "stdout",
     "output_type": "stream",
     "text": [
      "<class 'pandas.core.frame.DataFrame'>\n",
      "Int64Index: 32019 entries, 0 to 32018\n",
      "Data columns (total 17 columns):\n",
      "id                      32019 non-null object\n",
      "visitors                32019 non-null int64\n",
      "visit_date              32019 non-null object\n",
      "air_store_id            32019 non-null object\n",
      "dow                     32019 non-null int64\n",
      "year                    32019 non-null int64\n",
      "month                   32019 non-null int64\n",
      "p1m_avg_visitors        30948 non-null float64\n",
      "p1m_avg_log_visitors    30948 non-null float64\n",
      "p2m_avg_visitors        30948 non-null float64\n",
      "p2m_avg_log_visitors    30948 non-null float64\n",
      "air_genre_name          32019 non-null int64\n",
      "air_area_name           32019 non-null int64\n",
      "latitude                32019 non-null float64\n",
      "longitude               32019 non-null float64\n",
      "day_of_week             32019 non-null int64\n",
      "holiday_flg             32019 non-null int64\n",
      "dtypes: float64(6), int64(8), object(3)\n",
      "memory usage: 4.4+ MB\n"
     ]
    }
   ],
   "source": [
    "test.info()"
   ]
  },
  {
   "cell_type": "code",
   "execution_count": 31,
   "metadata": {},
   "outputs": [
    {
     "data": {
      "text/html": [
       "<div>\n",
       "<style>\n",
       "    .dataframe thead tr:only-child th {\n",
       "        text-align: right;\n",
       "    }\n",
       "\n",
       "    .dataframe thead th {\n",
       "        text-align: left;\n",
       "    }\n",
       "\n",
       "    .dataframe tbody tr th {\n",
       "        vertical-align: top;\n",
       "    }\n",
       "</style>\n",
       "<table border=\"1\" class=\"dataframe\">\n",
       "  <thead>\n",
       "    <tr style=\"text-align: right;\">\n",
       "      <th></th>\n",
       "      <th>air_store_id</th>\n",
       "      <th>visit_date</th>\n",
       "      <th>visitors</th>\n",
       "      <th>dow</th>\n",
       "      <th>year</th>\n",
       "      <th>month</th>\n",
       "      <th>day_of_week</th>\n",
       "      <th>holiday_flg</th>\n",
       "      <th>log_visitors</th>\n",
       "      <th>air_genre_name</th>\n",
       "      <th>air_area_name</th>\n",
       "      <th>latitude</th>\n",
       "      <th>longitude</th>\n",
       "    </tr>\n",
       "  </thead>\n",
       "  <tbody>\n",
       "    <tr>\n",
       "      <th>0</th>\n",
       "      <td>air_ba937bf13d40fb24</td>\n",
       "      <td>2016-01-13</td>\n",
       "      <td>25</td>\n",
       "      <td>2</td>\n",
       "      <td>2016</td>\n",
       "      <td>1</td>\n",
       "      <td>6</td>\n",
       "      <td>0</td>\n",
       "      <td>3.218876</td>\n",
       "      <td>4</td>\n",
       "      <td>62</td>\n",
       "      <td>35.658068</td>\n",
       "      <td>139.751599</td>\n",
       "    </tr>\n",
       "    <tr>\n",
       "      <th>1</th>\n",
       "      <td>air_ba937bf13d40fb24</td>\n",
       "      <td>2016-01-14</td>\n",
       "      <td>32</td>\n",
       "      <td>3</td>\n",
       "      <td>2016</td>\n",
       "      <td>1</td>\n",
       "      <td>4</td>\n",
       "      <td>0</td>\n",
       "      <td>3.465736</td>\n",
       "      <td>4</td>\n",
       "      <td>62</td>\n",
       "      <td>35.658068</td>\n",
       "      <td>139.751599</td>\n",
       "    </tr>\n",
       "    <tr>\n",
       "      <th>2</th>\n",
       "      <td>air_ba937bf13d40fb24</td>\n",
       "      <td>2016-01-15</td>\n",
       "      <td>29</td>\n",
       "      <td>4</td>\n",
       "      <td>2016</td>\n",
       "      <td>1</td>\n",
       "      <td>0</td>\n",
       "      <td>0</td>\n",
       "      <td>3.367296</td>\n",
       "      <td>4</td>\n",
       "      <td>62</td>\n",
       "      <td>35.658068</td>\n",
       "      <td>139.751599</td>\n",
       "    </tr>\n",
       "    <tr>\n",
       "      <th>3</th>\n",
       "      <td>air_ba937bf13d40fb24</td>\n",
       "      <td>2016-01-16</td>\n",
       "      <td>22</td>\n",
       "      <td>5</td>\n",
       "      <td>2016</td>\n",
       "      <td>1</td>\n",
       "      <td>2</td>\n",
       "      <td>0</td>\n",
       "      <td>3.091042</td>\n",
       "      <td>4</td>\n",
       "      <td>62</td>\n",
       "      <td>35.658068</td>\n",
       "      <td>139.751599</td>\n",
       "    </tr>\n",
       "    <tr>\n",
       "      <th>4</th>\n",
       "      <td>air_ba937bf13d40fb24</td>\n",
       "      <td>2016-01-18</td>\n",
       "      <td>6</td>\n",
       "      <td>0</td>\n",
       "      <td>2016</td>\n",
       "      <td>1</td>\n",
       "      <td>1</td>\n",
       "      <td>0</td>\n",
       "      <td>1.791759</td>\n",
       "      <td>4</td>\n",
       "      <td>62</td>\n",
       "      <td>35.658068</td>\n",
       "      <td>139.751599</td>\n",
       "    </tr>\n",
       "  </tbody>\n",
       "</table>\n",
       "</div>"
      ],
      "text/plain": [
       "           air_store_id  visit_date  visitors  dow  year  month  day_of_week  \\\n",
       "0  air_ba937bf13d40fb24  2016-01-13        25    2  2016      1            6   \n",
       "1  air_ba937bf13d40fb24  2016-01-14        32    3  2016      1            4   \n",
       "2  air_ba937bf13d40fb24  2016-01-15        29    4  2016      1            0   \n",
       "3  air_ba937bf13d40fb24  2016-01-16        22    5  2016      1            2   \n",
       "4  air_ba937bf13d40fb24  2016-01-18         6    0  2016      1            1   \n",
       "\n",
       "   holiday_flg  log_visitors  air_genre_name  air_area_name   latitude  \\\n",
       "0            0      3.218876               4             62  35.658068   \n",
       "1            0      3.465736               4             62  35.658068   \n",
       "2            0      3.367296               4             62  35.658068   \n",
       "3            0      3.091042               4             62  35.658068   \n",
       "4            0      1.791759               4             62  35.658068   \n",
       "\n",
       "    longitude  \n",
       "0  139.751599  \n",
       "1  139.751599  \n",
       "2  139.751599  \n",
       "3  139.751599  \n",
       "4  139.751599  "
      ]
     },
     "execution_count": 31,
     "metadata": {},
     "output_type": "execute_result"
    }
   ],
   "source": [
    "#create dataframe which holds visitdate,visitors,id,genre,area name by merging temp_no_hold and data['as]\n",
    "cusines=pd.merge(temp_no_hold,data['as'],how='left',on=['air_store_id'])\n",
    "encoder=LabelEncoder()\n",
    "#convert genre,area_name into numerical value\n",
    "cusines['air_genre_name']=encoder.fit_transform(cusines['air_genre_name'])\n",
    "cusines['air_area_name']=encoder.fit_transform(cusines['air_area_name'])\n",
    "cusines.head()"
   ]
  },
  {
   "cell_type": "code",
   "execution_count": 32,
   "metadata": {
    "collapsed": true
   },
   "outputs": [],
   "source": [
    "cusines['log_visitors']=np.log(cusines.visitors)\n",
    "cusines=cusines.groupby(['air_area_name','air_genre_name','year','month','dow'],as_index=False)['visitors','log_visitors'].mean().rename(columns={'visitors':'avg_visitors','log_visitors':'avg_log_visitors'})"
   ]
  },
  {
   "cell_type": "code",
   "execution_count": 33,
   "metadata": {
    "collapsed": true
   },
   "outputs": [],
   "source": [
    "#create copy of cusines dataframe\n",
    "cusines_p1m=cusines.copy()\n",
    "cusines_p2m=cusines.copy()"
   ]
  },
  {
   "cell_type": "code",
   "execution_count": 34,
   "metadata": {
    "collapsed": true
   },
   "outputs": [],
   "source": [
    "#function to compute previous time step\n",
    "def compute_shift(data):\n",
    "        return(data+1)\n",
    "            \n",
    "cusines_p1m[\"month\"]=cusines_p1m.month.apply(compute_shift)\n",
    "cusines_p1m.loc[(cusines_p1m.month>12),'year']=2017\n",
    "cusines_p1m.loc[(cusines_p1m.month>12),'month']=cusines_p1m.month-1"
   ]
  },
  {
   "cell_type": "code",
   "execution_count": 35,
   "metadata": {},
   "outputs": [
    {
     "data": {
      "text/html": [
       "<div>\n",
       "<style>\n",
       "    .dataframe thead tr:only-child th {\n",
       "        text-align: right;\n",
       "    }\n",
       "\n",
       "    .dataframe thead th {\n",
       "        text-align: left;\n",
       "    }\n",
       "\n",
       "    .dataframe tbody tr th {\n",
       "        vertical-align: top;\n",
       "    }\n",
       "</style>\n",
       "<table border=\"1\" class=\"dataframe\">\n",
       "  <thead>\n",
       "    <tr style=\"text-align: right;\">\n",
       "      <th></th>\n",
       "      <th>air_area_name</th>\n",
       "      <th>air_genre_name</th>\n",
       "      <th>year</th>\n",
       "      <th>month</th>\n",
       "      <th>dow</th>\n",
       "      <th>avg_visitors</th>\n",
       "      <th>avg_log_visitors</th>\n",
       "    </tr>\n",
       "  </thead>\n",
       "  <tbody>\n",
       "    <tr>\n",
       "      <th>0</th>\n",
       "      <td>0</td>\n",
       "      <td>1</td>\n",
       "      <td>2016</td>\n",
       "      <td>2</td>\n",
       "      <td>0</td>\n",
       "      <td>3.500000</td>\n",
       "      <td>0.959733</td>\n",
       "    </tr>\n",
       "    <tr>\n",
       "      <th>1</th>\n",
       "      <td>0</td>\n",
       "      <td>1</td>\n",
       "      <td>2016</td>\n",
       "      <td>2</td>\n",
       "      <td>1</td>\n",
       "      <td>11.105263</td>\n",
       "      <td>2.133214</td>\n",
       "    </tr>\n",
       "    <tr>\n",
       "      <th>2</th>\n",
       "      <td>0</td>\n",
       "      <td>1</td>\n",
       "      <td>2016</td>\n",
       "      <td>2</td>\n",
       "      <td>2</td>\n",
       "      <td>11.789474</td>\n",
       "      <td>2.215091</td>\n",
       "    </tr>\n",
       "    <tr>\n",
       "      <th>3</th>\n",
       "      <td>0</td>\n",
       "      <td>1</td>\n",
       "      <td>2016</td>\n",
       "      <td>2</td>\n",
       "      <td>3</td>\n",
       "      <td>10.190476</td>\n",
       "      <td>2.186920</td>\n",
       "    </tr>\n",
       "    <tr>\n",
       "      <th>4</th>\n",
       "      <td>0</td>\n",
       "      <td>1</td>\n",
       "      <td>2016</td>\n",
       "      <td>2</td>\n",
       "      <td>4</td>\n",
       "      <td>13.666667</td>\n",
       "      <td>2.455547</td>\n",
       "    </tr>\n",
       "  </tbody>\n",
       "</table>\n",
       "</div>"
      ],
      "text/plain": [
       "   air_area_name  air_genre_name  year  month  dow  avg_visitors  \\\n",
       "0              0               1  2016      2    0      3.500000   \n",
       "1              0               1  2016      2    1     11.105263   \n",
       "2              0               1  2016      2    2     11.789474   \n",
       "3              0               1  2016      2    3     10.190476   \n",
       "4              0               1  2016      2    4     13.666667   \n",
       "\n",
       "   avg_log_visitors  \n",
       "0          0.959733  \n",
       "1          2.133214  \n",
       "2          2.215091  \n",
       "3          2.186920  \n",
       "4          2.455547  "
      ]
     },
     "execution_count": 35,
     "metadata": {},
     "output_type": "execute_result"
    }
   ],
   "source": [
    "cusines_p1m.head()"
   ]
  },
  {
   "cell_type": "code",
   "execution_count": 36,
   "metadata": {},
   "outputs": [
    {
     "data": {
      "text/html": [
       "<div>\n",
       "<style>\n",
       "    .dataframe thead tr:only-child th {\n",
       "        text-align: right;\n",
       "    }\n",
       "\n",
       "    .dataframe thead th {\n",
       "        text-align: left;\n",
       "    }\n",
       "\n",
       "    .dataframe tbody tr th {\n",
       "        vertical-align: top;\n",
       "    }\n",
       "</style>\n",
       "<table border=\"1\" class=\"dataframe\">\n",
       "  <thead>\n",
       "    <tr style=\"text-align: right;\">\n",
       "      <th></th>\n",
       "      <th>air_area_name</th>\n",
       "      <th>air_genre_name</th>\n",
       "      <th>year</th>\n",
       "      <th>month</th>\n",
       "      <th>dow</th>\n",
       "      <th>avg_visitors</th>\n",
       "      <th>avg_log_visitors</th>\n",
       "    </tr>\n",
       "  </thead>\n",
       "  <tbody>\n",
       "    <tr>\n",
       "      <th>0</th>\n",
       "      <td>0</td>\n",
       "      <td>1</td>\n",
       "      <td>2016</td>\n",
       "      <td>1</td>\n",
       "      <td>0</td>\n",
       "      <td>3.500000</td>\n",
       "      <td>0.959733</td>\n",
       "    </tr>\n",
       "    <tr>\n",
       "      <th>1</th>\n",
       "      <td>0</td>\n",
       "      <td>1</td>\n",
       "      <td>2016</td>\n",
       "      <td>1</td>\n",
       "      <td>1</td>\n",
       "      <td>11.105263</td>\n",
       "      <td>2.133214</td>\n",
       "    </tr>\n",
       "    <tr>\n",
       "      <th>2</th>\n",
       "      <td>0</td>\n",
       "      <td>1</td>\n",
       "      <td>2016</td>\n",
       "      <td>1</td>\n",
       "      <td>2</td>\n",
       "      <td>11.789474</td>\n",
       "      <td>2.215091</td>\n",
       "    </tr>\n",
       "    <tr>\n",
       "      <th>3</th>\n",
       "      <td>0</td>\n",
       "      <td>1</td>\n",
       "      <td>2016</td>\n",
       "      <td>1</td>\n",
       "      <td>3</td>\n",
       "      <td>10.190476</td>\n",
       "      <td>2.186920</td>\n",
       "    </tr>\n",
       "    <tr>\n",
       "      <th>4</th>\n",
       "      <td>0</td>\n",
       "      <td>1</td>\n",
       "      <td>2016</td>\n",
       "      <td>1</td>\n",
       "      <td>4</td>\n",
       "      <td>13.666667</td>\n",
       "      <td>2.455547</td>\n",
       "    </tr>\n",
       "  </tbody>\n",
       "</table>\n",
       "</div>"
      ],
      "text/plain": [
       "   air_area_name  air_genre_name  year  month  dow  avg_visitors  \\\n",
       "0              0               1  2016      1    0      3.500000   \n",
       "1              0               1  2016      1    1     11.105263   \n",
       "2              0               1  2016      1    2     11.789474   \n",
       "3              0               1  2016      1    3     10.190476   \n",
       "4              0               1  2016      1    4     13.666667   \n",
       "\n",
       "   avg_log_visitors  \n",
       "0          0.959733  \n",
       "1          2.133214  \n",
       "2          2.215091  \n",
       "3          2.186920  \n",
       "4          2.455547  "
      ]
     },
     "execution_count": 36,
     "metadata": {},
     "output_type": "execute_result"
    }
   ],
   "source": [
    "cusines.head()"
   ]
  },
  {
   "cell_type": "code",
   "execution_count": 37,
   "metadata": {
    "collapsed": true
   },
   "outputs": [],
   "source": [
    "\n",
    "cusines_p2m[\"month\"]=cusines_p2m.month.apply(compute_shift_1)\n",
    "cusines_p2m.loc[(cusines_p2m.month>12),'year']=cusines_p2m.year+1\n"
   ]
  },
  {
   "cell_type": "code",
   "execution_count": 38,
   "metadata": {},
   "outputs": [
    {
     "data": {
      "text/html": [
       "<div>\n",
       "<style>\n",
       "    .dataframe thead tr:only-child th {\n",
       "        text-align: right;\n",
       "    }\n",
       "\n",
       "    .dataframe thead th {\n",
       "        text-align: left;\n",
       "    }\n",
       "\n",
       "    .dataframe tbody tr th {\n",
       "        vertical-align: top;\n",
       "    }\n",
       "</style>\n",
       "<table border=\"1\" class=\"dataframe\">\n",
       "  <thead>\n",
       "    <tr style=\"text-align: right;\">\n",
       "      <th></th>\n",
       "      <th>air_area_name</th>\n",
       "      <th>air_genre_name</th>\n",
       "      <th>year</th>\n",
       "      <th>month</th>\n",
       "      <th>dow</th>\n",
       "      <th>avg_visitors</th>\n",
       "      <th>avg_log_visitors</th>\n",
       "    </tr>\n",
       "  </thead>\n",
       "  <tbody>\n",
       "    <tr>\n",
       "      <th>0</th>\n",
       "      <td>0</td>\n",
       "      <td>1</td>\n",
       "      <td>2016</td>\n",
       "      <td>3</td>\n",
       "      <td>0</td>\n",
       "      <td>3.500000</td>\n",
       "      <td>0.959733</td>\n",
       "    </tr>\n",
       "    <tr>\n",
       "      <th>1</th>\n",
       "      <td>0</td>\n",
       "      <td>1</td>\n",
       "      <td>2016</td>\n",
       "      <td>3</td>\n",
       "      <td>1</td>\n",
       "      <td>11.105263</td>\n",
       "      <td>2.133214</td>\n",
       "    </tr>\n",
       "    <tr>\n",
       "      <th>2</th>\n",
       "      <td>0</td>\n",
       "      <td>1</td>\n",
       "      <td>2016</td>\n",
       "      <td>3</td>\n",
       "      <td>2</td>\n",
       "      <td>11.789474</td>\n",
       "      <td>2.215091</td>\n",
       "    </tr>\n",
       "    <tr>\n",
       "      <th>3</th>\n",
       "      <td>0</td>\n",
       "      <td>1</td>\n",
       "      <td>2016</td>\n",
       "      <td>3</td>\n",
       "      <td>3</td>\n",
       "      <td>10.190476</td>\n",
       "      <td>2.186920</td>\n",
       "    </tr>\n",
       "    <tr>\n",
       "      <th>4</th>\n",
       "      <td>0</td>\n",
       "      <td>1</td>\n",
       "      <td>2016</td>\n",
       "      <td>3</td>\n",
       "      <td>4</td>\n",
       "      <td>13.666667</td>\n",
       "      <td>2.455547</td>\n",
       "    </tr>\n",
       "  </tbody>\n",
       "</table>\n",
       "</div>"
      ],
      "text/plain": [
       "   air_area_name  air_genre_name  year  month  dow  avg_visitors  \\\n",
       "0              0               1  2016      3    0      3.500000   \n",
       "1              0               1  2016      3    1     11.105263   \n",
       "2              0               1  2016      3    2     11.789474   \n",
       "3              0               1  2016      3    3     10.190476   \n",
       "4              0               1  2016      3    4     13.666667   \n",
       "\n",
       "   avg_log_visitors  \n",
       "0          0.959733  \n",
       "1          2.133214  \n",
       "2          2.215091  \n",
       "3          2.186920  \n",
       "4          2.455547  "
      ]
     },
     "execution_count": 38,
     "metadata": {},
     "output_type": "execute_result"
    }
   ],
   "source": [
    "cusines_p2m.loc[(cusines_p2m.month>12),'month']=cusines_p2m.month-12\n",
    "cusines_p2m.head()"
   ]
  },
  {
   "cell_type": "code",
   "execution_count": 39,
   "metadata": {},
   "outputs": [
    {
     "data": {
      "text/html": [
       "<div>\n",
       "<style>\n",
       "    .dataframe thead tr:only-child th {\n",
       "        text-align: right;\n",
       "    }\n",
       "\n",
       "    .dataframe thead th {\n",
       "        text-align: left;\n",
       "    }\n",
       "\n",
       "    .dataframe tbody tr th {\n",
       "        vertical-align: top;\n",
       "    }\n",
       "</style>\n",
       "<table border=\"1\" class=\"dataframe\">\n",
       "  <thead>\n",
       "    <tr style=\"text-align: right;\">\n",
       "      <th></th>\n",
       "      <th>id</th>\n",
       "      <th>visitors</th>\n",
       "      <th>visit_date</th>\n",
       "      <th>air_store_id</th>\n",
       "      <th>dow</th>\n",
       "      <th>year</th>\n",
       "      <th>month</th>\n",
       "      <th>p1m_avg_visitors</th>\n",
       "      <th>p1m_avg_log_visitors</th>\n",
       "      <th>p2m_avg_visitors</th>\n",
       "      <th>p2m_avg_log_visitors</th>\n",
       "      <th>air_genre_name</th>\n",
       "      <th>air_area_name</th>\n",
       "      <th>latitude</th>\n",
       "      <th>longitude</th>\n",
       "      <th>day_of_week</th>\n",
       "      <th>holiday_flg</th>\n",
       "    </tr>\n",
       "  </thead>\n",
       "  <tbody>\n",
       "    <tr>\n",
       "      <th>0</th>\n",
       "      <td>air_00a91d42b08b08d9_2017-04-23</td>\n",
       "      <td>0</td>\n",
       "      <td>2017-04-23</td>\n",
       "      <td>air_00a91d42b08b08d9</td>\n",
       "      <td>6</td>\n",
       "      <td>2017</td>\n",
       "      <td>4</td>\n",
       "      <td>NaN</td>\n",
       "      <td>NaN</td>\n",
       "      <td>NaN</td>\n",
       "      <td>NaN</td>\n",
       "      <td>6</td>\n",
       "      <td>44</td>\n",
       "      <td>35.694003</td>\n",
       "      <td>139.753595</td>\n",
       "      <td>3</td>\n",
       "      <td>0</td>\n",
       "    </tr>\n",
       "    <tr>\n",
       "      <th>1</th>\n",
       "      <td>air_00a91d42b08b08d9_2017-04-24</td>\n",
       "      <td>0</td>\n",
       "      <td>2017-04-24</td>\n",
       "      <td>air_00a91d42b08b08d9</td>\n",
       "      <td>0</td>\n",
       "      <td>2017</td>\n",
       "      <td>4</td>\n",
       "      <td>33.333333</td>\n",
       "      <td>3.438378</td>\n",
       "      <td>27.50</td>\n",
       "      <td>3.255846</td>\n",
       "      <td>6</td>\n",
       "      <td>44</td>\n",
       "      <td>35.694003</td>\n",
       "      <td>139.753595</td>\n",
       "      <td>1</td>\n",
       "      <td>0</td>\n",
       "    </tr>\n",
       "    <tr>\n",
       "      <th>2</th>\n",
       "      <td>air_00a91d42b08b08d9_2017-04-25</td>\n",
       "      <td>0</td>\n",
       "      <td>2017-04-25</td>\n",
       "      <td>air_00a91d42b08b08d9</td>\n",
       "      <td>1</td>\n",
       "      <td>2017</td>\n",
       "      <td>4</td>\n",
       "      <td>29.250000</td>\n",
       "      <td>3.374898</td>\n",
       "      <td>32.00</td>\n",
       "      <td>3.426816</td>\n",
       "      <td>6</td>\n",
       "      <td>44</td>\n",
       "      <td>35.694003</td>\n",
       "      <td>139.753595</td>\n",
       "      <td>5</td>\n",
       "      <td>0</td>\n",
       "    </tr>\n",
       "    <tr>\n",
       "      <th>3</th>\n",
       "      <td>air_00a91d42b08b08d9_2017-04-26</td>\n",
       "      <td>0</td>\n",
       "      <td>2017-04-26</td>\n",
       "      <td>air_00a91d42b08b08d9</td>\n",
       "      <td>2</td>\n",
       "      <td>2017</td>\n",
       "      <td>4</td>\n",
       "      <td>32.400000</td>\n",
       "      <td>3.397965</td>\n",
       "      <td>31.75</td>\n",
       "      <td>3.362910</td>\n",
       "      <td>6</td>\n",
       "      <td>44</td>\n",
       "      <td>35.694003</td>\n",
       "      <td>139.753595</td>\n",
       "      <td>6</td>\n",
       "      <td>0</td>\n",
       "    </tr>\n",
       "    <tr>\n",
       "      <th>4</th>\n",
       "      <td>air_00a91d42b08b08d9_2017-04-27</td>\n",
       "      <td>0</td>\n",
       "      <td>2017-04-27</td>\n",
       "      <td>air_00a91d42b08b08d9</td>\n",
       "      <td>3</td>\n",
       "      <td>2017</td>\n",
       "      <td>4</td>\n",
       "      <td>34.000000</td>\n",
       "      <td>3.518000</td>\n",
       "      <td>32.25</td>\n",
       "      <td>3.455870</td>\n",
       "      <td>6</td>\n",
       "      <td>44</td>\n",
       "      <td>35.694003</td>\n",
       "      <td>139.753595</td>\n",
       "      <td>4</td>\n",
       "      <td>0</td>\n",
       "    </tr>\n",
       "  </tbody>\n",
       "</table>\n",
       "</div>"
      ],
      "text/plain": [
       "                                id  visitors  visit_date  \\\n",
       "0  air_00a91d42b08b08d9_2017-04-23         0  2017-04-23   \n",
       "1  air_00a91d42b08b08d9_2017-04-24         0  2017-04-24   \n",
       "2  air_00a91d42b08b08d9_2017-04-25         0  2017-04-25   \n",
       "3  air_00a91d42b08b08d9_2017-04-26         0  2017-04-26   \n",
       "4  air_00a91d42b08b08d9_2017-04-27         0  2017-04-27   \n",
       "\n",
       "           air_store_id  dow  year  month  p1m_avg_visitors  \\\n",
       "0  air_00a91d42b08b08d9    6  2017      4               NaN   \n",
       "1  air_00a91d42b08b08d9    0  2017      4         33.333333   \n",
       "2  air_00a91d42b08b08d9    1  2017      4         29.250000   \n",
       "3  air_00a91d42b08b08d9    2  2017      4         32.400000   \n",
       "4  air_00a91d42b08b08d9    3  2017      4         34.000000   \n",
       "\n",
       "   p1m_avg_log_visitors  p2m_avg_visitors  p2m_avg_log_visitors  \\\n",
       "0                   NaN               NaN                   NaN   \n",
       "1              3.438378             27.50              3.255846   \n",
       "2              3.374898             32.00              3.426816   \n",
       "3              3.397965             31.75              3.362910   \n",
       "4              3.518000             32.25              3.455870   \n",
       "\n",
       "   air_genre_name  air_area_name   latitude   longitude  day_of_week  \\\n",
       "0               6             44  35.694003  139.753595            3   \n",
       "1               6             44  35.694003  139.753595            1   \n",
       "2               6             44  35.694003  139.753595            5   \n",
       "3               6             44  35.694003  139.753595            6   \n",
       "4               6             44  35.694003  139.753595            4   \n",
       "\n",
       "   holiday_flg  \n",
       "0            0  \n",
       "1            0  \n",
       "2            0  \n",
       "3            0  \n",
       "4            0  "
      ]
     },
     "execution_count": 39,
     "metadata": {},
     "output_type": "execute_result"
    }
   ],
   "source": [
    "test.head()"
   ]
  },
  {
   "cell_type": "code",
   "execution_count": 40,
   "metadata": {
    "collapsed": true
   },
   "outputs": [],
   "source": [
    "test=pd.merge(test,cusines_p1m,how='left',on=['air_area_name','air_genre_name','year','month','dow'])\n",
    "test=pd.merge(test,cusines_p2m,how='left',on=['air_area_name','air_genre_name','year','month','dow'])\n"
   ]
  },
  {
   "cell_type": "code",
   "execution_count": 41,
   "metadata": {},
   "outputs": [
    {
     "name": "stdout",
     "output_type": "stream",
     "text": [
      "<class 'pandas.core.frame.DataFrame'>\n",
      "Int64Index: 32019 entries, 0 to 32018\n",
      "Data columns (total 21 columns):\n",
      "id                      32019 non-null object\n",
      "visitors                32019 non-null int64\n",
      "visit_date              32019 non-null object\n",
      "air_store_id            32019 non-null object\n",
      "dow                     32019 non-null int64\n",
      "year                    32019 non-null int64\n",
      "month                   32019 non-null int64\n",
      "p1m_avg_visitors        30948 non-null float64\n",
      "p1m_avg_log_visitors    30948 non-null float64\n",
      "p2m_avg_visitors        30948 non-null float64\n",
      "p2m_avg_log_visitors    30948 non-null float64\n",
      "air_genre_name          32019 non-null int64\n",
      "air_area_name           32019 non-null int64\n",
      "latitude                32019 non-null float64\n",
      "longitude               32019 non-null float64\n",
      "day_of_week             32019 non-null int64\n",
      "holiday_flg             32019 non-null int64\n",
      "avg_visitors_x          31837 non-null float64\n",
      "avg_log_visitors_x      31837 non-null float64\n",
      "avg_visitors_y          31845 non-null float64\n",
      "avg_log_visitors_y      31845 non-null float64\n",
      "dtypes: float64(10), int64(8), object(3)\n",
      "memory usage: 5.4+ MB\n"
     ]
    }
   ],
   "source": [
    "test.info()"
   ]
  },
  {
   "cell_type": "code",
   "execution_count": 42,
   "metadata": {},
   "outputs": [
    {
     "name": "stdout",
     "output_type": "stream",
     "text": [
      "<class 'pandas.core.frame.DataFrame'>\n",
      "Int64Index: 32019 entries, 0 to 32018\n",
      "Data columns (total 17 columns):\n",
      "id                      32019 non-null object\n",
      "visitors                32019 non-null int64\n",
      "visit_date              32019 non-null object\n",
      "air_store_id            32019 non-null object\n",
      "dow                     32019 non-null int64\n",
      "year                    32019 non-null int64\n",
      "month                   32019 non-null int64\n",
      "p1m_avg_visitors        31900 non-null float64\n",
      "p1m_avg_log_visitors    31900 non-null float64\n",
      "p2m_avg_visitors        31899 non-null float64\n",
      "p2m_avg_log_visitors    31899 non-null float64\n",
      "air_genre_name          32019 non-null int64\n",
      "air_area_name           32019 non-null int64\n",
      "latitude                32019 non-null float64\n",
      "longitude               32019 non-null float64\n",
      "day_of_week             32019 non-null int64\n",
      "holiday_flg             32019 non-null int64\n",
      "dtypes: float64(6), int64(8), object(3)\n",
      "memory usage: 4.4+ MB\n"
     ]
    }
   ],
   "source": [
    "test.p1m_avg_visitors.fillna(test.avg_visitors_x,inplace=True)\n",
    "test.p1m_avg_log_visitors.fillna(test.avg_log_visitors_x,inplace=True)\n",
    "test.p2m_avg_visitors.fillna(test.avg_visitors_y,inplace=True)\n",
    "test.p2m_avg_log_visitors.fillna(test.avg_log_visitors_y,inplace=True)\n",
    "test.drop(['avg_visitors_y','avg_log_visitors_y','avg_visitors_x','avg_log_visitors_x'],axis=1,inplace=True)\n",
    "test.info()"
   ]
  },
  {
   "cell_type": "code",
   "execution_count": 43,
   "metadata": {
    "collapsed": true
   },
   "outputs": [],
   "source": [
    "#converting str'air_Store id' into category variable of numeric\n",
    "lbl =LabelEncoder()\n",
    "train['air_store_id2'] = lbl.fit_transform(train['air_store_id'])\n",
    "test['air_store_id2'] = lbl.fit_transform(test['air_store_id'])\n",
    "\n",
    "col = [c for c in train if c not in ['id', 'air_store_id', 'visit_date','visitors','log_visitors','p1m_avg_visitors','p2m_avg_visitors']]\n"
   ]
  },
  {
   "cell_type": "code",
   "execution_count": 44,
   "metadata": {},
   "outputs": [
    {
     "name": "stdout",
     "output_type": "stream",
     "text": [
      "<class 'pandas.core.frame.DataFrame'>\n",
      "Int64Index: 187058 entries, 0 to 187057\n",
      "Data columns (total 11 columns):\n",
      "dow                     187058 non-null int64\n",
      "year                    187058 non-null int64\n",
      "month                   187058 non-null int64\n",
      "holiday_flg             187058 non-null int64\n",
      "p1m_avg_log_visitors    187058 non-null float64\n",
      "p2m_avg_log_visitors    187058 non-null float64\n",
      "air_genre_name          187058 non-null int64\n",
      "air_area_name           187058 non-null int64\n",
      "latitude                187058 non-null float64\n",
      "longitude               187058 non-null float64\n",
      "air_store_id2           187058 non-null int64\n",
      "dtypes: float64(4), int64(7)\n",
      "memory usage: 17.1 MB\n",
      "<class 'pandas.core.frame.DataFrame'>\n",
      "Int64Index: 32019 entries, 0 to 32018\n",
      "Data columns (total 11 columns):\n",
      "dow                     32019 non-null int64\n",
      "year                    32019 non-null int64\n",
      "month                   32019 non-null int64\n",
      "holiday_flg             32019 non-null int64\n",
      "p1m_avg_log_visitors    32019 non-null float64\n",
      "p2m_avg_log_visitors    32019 non-null float64\n",
      "air_genre_name          32019 non-null int64\n",
      "air_area_name           32019 non-null int64\n",
      "latitude                32019 non-null float64\n",
      "longitude               32019 non-null float64\n",
      "air_store_id2           32019 non-null int64\n",
      "dtypes: float64(4), int64(7)\n",
      "memory usage: 2.9 MB\n"
     ]
    }
   ],
   "source": [
    "test=test.fillna(-1)\n",
    "train[col].info()\n",
    "test[col].info()"
   ]
  },
  {
   "cell_type": "code",
   "execution_count": 45,
   "metadata": {},
   "outputs": [
    {
     "data": {
      "text/plain": [
       "<matplotlib.axes._subplots.AxesSubplot at 0x1f592b4d3c8>"
      ]
     },
     "execution_count": 45,
     "metadata": {},
     "output_type": "execute_result"
    },
    {
     "data": {
      "image/png": "[encoded data removed]",
      "text/plain": [
       "<matplotlib.figure.Figure at 0x1f592bffd30>"
      ]
     },
     "metadata": {},
     "output_type": "display_data"
    }
   ],
   "source": [
    "import seaborn as sns\n",
    "corr=train.corr()\n",
    "sns.heatmap(corr, \n",
    "            xticklabels=corr.columns.values,\n",
    "            yticklabels=corr.columns.values)\n"
   ]
  },
  {
   "cell_type": "markdown",
   "metadata": {},
   "source": [
    "### Preparing training,validating and testing dataset for training and validating the model:\n",
    "* 1.  The data is scaled to a fixed range - usually 0 to 1 using Min max scaler\n",
    "* The cost of having this bounded range - in contrast to standardization - is that we will end up with smaller standard deviations, which can suppress the effect of outliers. \n",
    "* 2. Dividing the training dataset into  training(X_train,y_train) and testing(X_test and y_test).\n",
    "* 3. Using Kfold cross validation, divide the training dataset into k equal folds. Then k-1 folds are chosen randomly  for \n",
    "* training and leaving one fold for validating the regression models.Repeats this process for k iteration.\n",
    "* 3. Then the models performance is measured using performance metrics(Root mean square error) and takes average of the metrics and choose the model which has less value of Root mean square error will be chosen to evaluate the model using testing set. "
   ]
  },
  {
   "cell_type": "code",
   "execution_count": 46,
   "metadata": {
    "collapsed": true
   },
   "outputs": [],
   "source": [
    "#splitting training data into X_train,X_test,y_train,y_test\n",
    "X=train[col]\n",
    "y=train[['log_visitors']]\n",
    "from sklearn.model_selection import train_test_split,cross_val_predict\n",
    "from sklearn.preprocessing import MinMaxScaler\n",
    "from sklearn.model_selection import train_test_split,cross_val_score\n",
    "scaler=MinMaxScaler(feature_range=(0,1))\n",
    "X=scaler.fit_transform(X)\n",
    "y=scaler.fit_transform(y)\n",
    "X_train,X_test,y_train,y_test=train_test_split(X,y,test_size=0.25,random_state=1)\n"
   ]
  },
  {
   "cell_type": "code",
   "execution_count": 47,
   "metadata": {
    "collapsed": true
   },
   "outputs": [],
   "source": [
    "y_train=y_train.ravel()"
   ]
  },
  {
   "cell_type": "code",
   "execution_count": 48,
   "metadata": {
    "collapsed": true
   },
   "outputs": [],
   "source": [
    "#splitting the training data into training and validation\n",
    "#Parameters passed are X_train,y_train and model need this data to be trained and predicted\n",
    "#function returns array of RMSE values of each iteration\n",
    "from sklearn.model_selection import KFold\n",
    "from sklearn.model_selection import validation_curve\n",
    "from math import sqrt\n",
    "def split_to_kfold(X_train,y_train,nfolds,model):\n",
    "    result=[]\n",
    "    fold=KFold(n_splits=nfolds,shuffle=True,random_state=1)\n",
    "    for train_index,test_index in fold.split(X_train):\n",
    "        model=model.fit(X_train[train_index],y_train[train_index])\n",
    "        y_predict=model.predict(X_train[test_index])\n",
    "        mse=mean_squared_error(y_train[test_index],y_predict)\n",
    "        result.append(sqrt(mse))\n",
    "    return result\n",
    "\n",
    "    \n",
    "    "
   ]
  },
  {
   "cell_type": "markdown",
   "metadata": {
    "collapsed": true
   },
   "source": [
    "### Algorithm and Its implementation:\n",
    "* Time series dataset is converted into supervised regression problem. Now suites of linear and non linear regression Algorithm can be applied to this dataset.\n",
    "* I have chosen following Regression Algorithm\n",
    "* 1. Stocastic Gradient Descent regressor\n",
    "* 2. Support vector regressor:\n",
    "* 3. KNearestNeighbor regressor\n",
    "* 4. Random Forest Regressor\n",
    "* I have implemented using Sklearn libraries.\n",
    "* Using helper function split_to_kfold, divide the data into training and validation and then using sklearn libraries, each model is implemented and trained using the fit method and yhat values are predicted and compared with actual value.\n",
    "* Compute the root mean square error of predicted and actual values for every iteration and find the average RMSE.\n",
    "* The model whose RMSE value is close to zero or negative value will be chosed as benchmark model.\n",
    "* Then tune the hyper parameters of those models using GRIDSearchCv and find the best parameters and use those parameter to train the model and finally use test data to predict the value and measure the performance of the model. The performance of the model will improve after tuning. Then use those hyper parameters to predict the unseen data.\n",
    "* After evaluating performance of all the models , Stocastic gradient Descent regressor and Support vector regressor considered to be better model for this dataset and have considered as Bench mark models.\n"
   ]
  },
  {
   "cell_type": "markdown",
   "metadata": {},
   "source": [
    "### Bench mark model: Zero Rule Algorithm\n",
    "\n",
    "* To know whether the predictions for above mentioned algorithms are good or not, we need to use baseline prediction algorithm.\n",
    "* A baseline prediction algorithm provides a set of predictions that we I evaluate as I would any predictions for the problem, such as RMSE.\n",
    "* The scores from these algorithms provide the required point of comparison when evaluating all other machine learning algorithms on my problem.\n",
    "* Once established, you can comment on how much better a given algorithm is as compared to the naive baseline algorithm, providing context on just how good a given method actually is.\n",
    "* The two most commonly used baseline algorithms are:\n",
    "* Random Prediction Algorithm.\n",
    "* Zero Rule Algorithm.\n",
    "* I have chosen zero Rule Algorithm as my Bench mark model.\n",
    "* The Zero Rule Algorithm is a better baseline than the random algorithm.\n",
    "* It uses more information about a given problem to create one rule in order to make predictions.\n",
    "* Regression problems require the prediction of a real value.\n",
    "* A good default prediction for real values is to predict the central tendency. This could be the mean or the median.\n",
    "* A good default is to use the mean (also called the average) of the output value observed in the training data.\n",
    "* This is likely to have a lower error than random prediction which will return any observed output value.\n",
    "* Below is a function to do that named zero_rule_algorithm_regression(). It works by calculating the mean value for the observed output values.\n",
    "https://machinelearningmastery.com/implement-baseline-machine-learning-algorithms-scratch-python/"
   ]
  },
  {
   "cell_type": "code",
   "execution_count": 88,
   "metadata": {},
   "outputs": [
    {
     "name": "stdout",
     "output_type": "stream",
     "text": [
      "0.401614647866\n",
      "RMSE of benchmark model: 0.132471734388\n"
     ]
    }
   ],
   "source": [
    "# zero rule algorithm for regression\n",
    "def zero_rule_algorithm_regression(train, test):\n",
    "    output_values = train\n",
    "    prediction =np.mean(output_values)\n",
    "    predicted = [prediction for i in range(len(test))]\n",
    "    print(prediction)\n",
    "    return predicted\n",
    "y_predict=zero_rule_algorithm_regression(y_train,y_test)\n",
    "mse=mean_squared_error(y_test,y_predict)\n",
    "rmse=np.sqrt(mse)\n",
    "print('RMSE of benchmark model:',rmse)"
   ]
  },
  {
   "cell_type": "markdown",
   "metadata": {},
   "source": [
    "\n",
    "1.** Stochastic Gradient Descent:**\n",
    "* This Algorithm finds a best fit line for the data using linear function y=mx+b.\n",
    "* A standard approach to solving this type of problem is to define an error function (also called a cost function) that measures how “good” a given line is. This function will take in a (m,b) pair and return an error value based on how well the line fits our data. To compute this error for a given line, we’ll iterate through each (x,y) point in our data set and sum the square distances between each point’s y value and the candidate line’s y value (computed at mx + b). It’s conventional to square this distance to ensure that it is positive and to make our error function differentiable. \n",
    "* Lines that fit our data better (where better is defined by our error function) will result in lower error values. If we minimize this function, we will get the best line for our data\n",
    "* To minimize the error, run gradient descent on the error function. To compute it, we will need to differentiate our error function. Since our function is defined by  parameters (m and b), we will need to compute a partial derivative for each.\n",
    "* We can initialize our search to start at any pair of m and b values (i.e., any line) and let the gradient descent algorithm march downhill on our error function towards the best line. Each iteration will update m and b to a line that yields slightly lower error than the previous iteration. The direction to move in for each iteration is calculated using the two partial derivatives .\n",
    "* The learningRate variable controls how large of a step we take downhill during each iteration. If we take too large of a step, we may step over the minimum. However, if we take small steps, it will require many iterations to arrive at the minimum.\n",
    "* This hyper parameter need to be tuned to findout best value for this dataset.\n",
    "* To avoid overfitting  l2 regularization is used, which will increase the penality of error function if the magnitude of fitting parameters and magnitude of lambda are high .The regularization parameter lambda is a control on your fitting parameters, which is again hyperparameter need to be tuned.\n",
    "\n",
    "**Reason for SGD as final model:**\n",
    "* The major advantage of SGD is its efficiency, which is basically linear in the number of training examples. If X is a matrix of size (n, p) training has a cost of O(k n \\bar p), where k is the number of iterations (epochs) and \\bar p is the average number of non-zero attributes per sample.\n",
    "* Since it is faster than other algorithms, which helps in tuning the hyper parameters using gridsearch cr0ss validation to find out best combination of hyperparameters.\n",
    "* It uses gradient descent to optimize the algorithm. The performance can be improved by training the data on differnet epochs , on every epochs the error is descending to lower value. This parameter is tuned usng gridsearchcv to find best number of iteration for this dataset so that error value descent to lower values.In order to avoid overfitiing L2 regularization is used.\n"
   ]
  },
  {
   "cell_type": "code",
   "execution_count": 49,
   "metadata": {},
   "outputs": [
    {
     "name": "stdout",
     "output_type": "stream",
     "text": [
      "Mean squared error using kfold [0.09033442388864613, 0.09139446298700608, 0.09115980124150239, 0.08976348632180844, 0.09124805332589103]\n",
      "Mean of rmse of SGD 0.090780045553\n"
     ]
    }
   ],
   "source": [
    "#Stochastic gradient Descent for regression\n",
    "from sklearn.linear_model import SGDRegressor\n",
    "regressor_sgd=SGDRegressor(verbose=0,random_state=1)\n",
    "scores=split_to_kfold(X_train,y_train,5,regressor_sgd)\n",
    "rmse=np.mean(scores)\n",
    "print('Mean squared error using kfold',scores)\n",
    "print('Mean of rmse of SGD',rmse)"
   ]
  },
  {
   "cell_type": "markdown",
   "metadata": {},
   "source": [
    "**KNearestNeighbor:**\n",
    "* It is a non parametric model, which means it doesnot make any assumption about data distributions.\n",
    "* KNN is also a lazy algorithm (as opposed to an eager algorithm).\n",
    "* It means is that it does not use the training data points to do any generalization. In other words, there is no explicit training phase or it is very minimal. This also means that the training phase is pretty fast .\n",
    "* Lack of generalization means that KNN keeps all the training data. \n",
    "* the training data is needed during the testing phase.KNN stores the entire training dataset which it uses as its representation.KNN does not learn any model.\n",
    "* KNN Algorithm is based on feature similarity.KNN makes predictions just-in-time by calculating the similarity between an input sample and each training instance.\n",
    "* The algorithm can be summarized as:\n",
    "* A positive integer k is specified, along with a new sample.We select the k entries in our database which are closest to the new sample , using distance function like Euclian distance, Manhattan distance. \n",
    "* After finding k closest entries, take average of its output value and use that average as predicted value for that new sample.\n",
    "* Reason for Choosing the algorithm:\n",
    "The closest k sample for new sample would be highly relevant ie.The nearest data for no of visitors on specific day would be previous days no of visitors, and its previous month day of week average which are more appropriate for predicting the current day visitor count. The no of Neighbors is hyperparameter and it is given by user while training the parameter. The right number will make the model less biased and variance.\n",
    "Pros:\n",
    "* Insensitive to outliers — accuracy can be affected from noise or irrelevant features\n",
    "* No assumptions about data — useful, for example, for nonlinear data\n",
    "* Simple algorithm — to explain and understand/interpret\n",
    "Cons:\n",
    "* Computationally expensive — because the algorithm has to compute the distance between new sample and each training sample to find the closest training sample's output.So Prediction stage might be slow (with big N)\n",
    "* High memory requirement -Stores all (or almost all) of the training data\n",
    "* Sensitive to irrelevant features and the scale of the data. To avoid that feature scaling to be done."
   ]
  },
  {
   "cell_type": "code",
   "execution_count": 64,
   "metadata": {},
   "outputs": [
    {
     "name": "stdout",
     "output_type": "stream",
     "text": [
      "Mean squared error using 5fold [0.09176238525640379, 0.09301007012814008, 0.09187554072548273, 0.09096208920455963, 0.09258394140104208]\n",
      "Mean of rmse of KNN using 5fold 0.0920388053431\n"
     ]
    }
   ],
   "source": [
    "#Knearest neighbor for regression\n",
    "from sklearn.neighbors import KNeighborsRegressor\n",
    "regressor_knn=KNeighborsRegressor(n_neighbors=8)\n",
    "scores=split_to_kfold(X_train,y_train,5,regressor_knn)\n",
    "rmse=np.mean(scores)\n",
    "print('Mean squared error using 5fold',scores)\n",
    "print('Mean of rmse of KNN using 5fold',rmse)"
   ]
  },
  {
   "cell_type": "markdown",
   "metadata": {},
   "source": [
    "**SVM regression:**\n",
    "* 1.SVM regression works by  mapping the data x into a high-dimensional feature space F via a nonlinear mapping (Kernel tricks), and to do linear regression in this space .\n",
    "* 2. Finding best hyper plane with large margin which is - epsilon insenitive zone ie trying to find the best fit so that points are closer to plane and within the zone.\n",
    "* 3. SVM regression performs linear regression in the high-dimension feature space using epsilon -insensitive loss and, at the same time, tries to reduce model complexity by minimizing ||w||2. This can be described by introducing (non-negative) slack variables , to measure the deviation of training samples outside -insensitive zone epsilon.\n",
    "* It is well known that SVM generalization performance (estimation accuracy) depends on a good setting of meta-parameters parameters C,  and the kernel parameters. \n",
    "* Parameter C - determines the trade off between the model complexity (flatness) and the degree to which deviations larger than  are tolerated in optimization formulation for example, if C is too large (infinity), then the objective is to minimize the empirical risk only, without regard to model complexity part in the optimization formulation.\n",
    "* Parameter epsilon - controls the width of the epsilon-insensitive zone, used to fit the training data. The value of can affect the number of support vectors used to construct the regression function. The bigger , the fewer support vectors are selected. On the other hand, bigger -values results in more ‘flat’ estimates. Hence, both C and -values affect model complexity (but in a different way).\n",
    "Pros:\n",
    "* Kernel based framework is very powerful and flexible.\n",
    "* Svm work well  with small training examples.\n",
    "* Cons:\n",
    "* Computational complexity : During training time, it has to do matrix computation(inner product) to map data x into high dimensional feature space.\n",
    "* Learning can take very long time for large scale problem.\n",
    "http://kernelsvm.tripod.com/#"
   ]
  },
  {
   "cell_type": "code",
   "execution_count": 53,
   "metadata": {},
   "outputs": [
    {
     "name": "stdout",
     "output_type": "stream",
     "text": [
      "Mean squared errorusing kfold [0.0897648365416425, 0.09100146824074448, 0.09045240480246867, 0.08950414992633948, 0.09076090617375704]\n",
      "rmse of linear regression 0.090296753137\n"
     ]
    }
   ],
   "source": [
    "# Support vector regressor for regression\n",
    "from sklearn.svm import SVR\n",
    "regressor_svm=SVR()\n",
    "scores=split_to_kfold(X_train,y_train,5,regressor_svm)\n",
    "rmse=np.mean(scores)\n",
    "print('Mean squared errorusing kfold',scores)\n",
    "print('rmse of linear regression',rmse)"
   ]
  },
  {
   "cell_type": "markdown",
   "metadata": {},
   "source": [
    "Random Forest:\n",
    "* Random forest  build multiple CART model with different sample and different initial features. For instance, it will take a random sample of 100 observation and 5 randomly chosen initial features to build a CART model. It will repeat the process (say) 10 times and then make a final prediction on each observation. Final prediction is a function of each prediction. This final prediction can simply be the mean of each prediction.\n",
    "* Each tree is built by randomly chosen features and observation, use attribute selction statistic like Gini index or information gain to compute the values for each attribute by randomly choosing split value to convert into category if it is real value.Then sort the values and the attribute which has highest value (incase of information gain) will be selcted as root for the tree and split the training data into subset . Then the  attribute which has next highest value will be child node and process repeats until leaf node has reached.\n",
    "* Again no of trees to built is hyperparameter which can be tuned.\n",
    " "
   ]
  },
  {
   "cell_type": "code",
   "execution_count": 66,
   "metadata": {},
   "outputs": [
    {
     "name": "stdout",
     "output_type": "stream",
     "text": [
      "Mean squared errorusing kfold [0.09660743075493328, 0.09752763446247971, 0.09721947045096051, 0.09650572518620514, 0.09746113779814664]\n",
      "rmse of linear regression 0.0970642797305\n"
     ]
    }
   ],
   "source": [
    "#random forest for regression\n",
    "from sklearn.ensemble import RandomForestRegressor\n",
    "regressor_RF=RandomForestRegressor(n_estimators=10,random_state=1)\n",
    "scores=split_to_kfold(X_train,y_train,5,regressor_RF)\n",
    "rmse=np.mean(scores)\n",
    "print('Mean squared errorusing kfold',scores)\n",
    "print('rmse of linear regression',rmse)"
   ]
  },
  {
   "cell_type": "code",
   "execution_count": 71,
   "metadata": {},
   "outputs": [
    {
     "data": {
      "text/plain": [
       "array([ 0.02795843,  0.00445661,  0.03179435,  0.01418786,  0.62462819,\n",
       "        0.12768851,  0.02475275,  0.02943381,  0.02912631,  0.02624638,\n",
       "        0.05972681])"
      ]
     },
     "execution_count": 71,
     "metadata": {},
     "output_type": "execute_result"
    }
   ],
   "source": [
    "#random forest finds the features which is highly relevant has given higher score \n",
    "# in this, it has given p1mavg_log_visitors\n",
    "regressor_RF.feature_importances_"
   ]
  },
  {
   "cell_type": "markdown",
   "metadata": {},
   "source": [
    "### Tuning the hyperparameters of SGD regressor:\n",
    " Using Gridsearch cross validation ,tunning the features penalty to avoid overfiiting, different values of alpha which controls the magnitude of the coeffecient of the features , learning rate and no of epochs.\n",
    " After training model with different values of hyper parameter, the gridsearchcv helps to find the best combination of the hyperparameters  which has less loss on the validation data.\n"
   ]
  },
  {
   "cell_type": "code",
   "execution_count": 133,
   "metadata": {},
   "outputs": [
    {
     "name": "stdout",
     "output_type": "stream",
     "text": [
      "{'alpha': 0.001, 'eta0': 0.01, 'n_iter': 15, 'penalty': 'l2'}\n"
     ]
    }
   ],
   "source": [
    "from sklearn.model_selection import GridSearchCV\n",
    "def SGD_parameter_tuning(X,y,nfolds):\n",
    "    parameters={'penalty':('l1','l2'),'alpha':[0.001, 0.01, 0.1, 1],'n_iter':[5,15,25],'eta0':[0.01,0.1,1.0]}\n",
    "    grid_search=GridSearchCV(regressor_sgd,parameters,cv=nfolds)\n",
    "    grid_search.fit(X, y)\n",
    "    print(grid_search.best_params_)\n",
    "SGD_parameter_tuning(X_train,y_train,5)  "
   ]
  },
  {
   "cell_type": "markdown",
   "metadata": {},
   "source": [
    "### Evaluating the performance of the model with test data:\n",
    "After finding the best values of hyperparameter , train the model with whole training data and predict the values of test data. Then measure the evaluation metrics ie Root mean square error ."
   ]
  },
  {
   "cell_type": "code",
   "execution_count": 50,
   "metadata": {},
   "outputs": [
    {
     "name": "stdout",
     "output_type": "stream",
     "text": [
      "0.0908786028896\n"
     ]
    }
   ],
   "source": [
    "#After tuning the parameter, training the model with best parameters on wholetraining set\n",
    "from sklearn.model_selection import validation_curve\n",
    "from sklearn.linear_model import SGDRegressor\n",
    "regressor_sgd=SGDRegressor(alpha=0.001,n_iter=15,random_state=1)\n",
    "regressor_sgd=regressor_sgd.fit(X_train,y_train)\n",
    "y_predict=regressor_sgd.predict(X_test)\n",
    "mse=mean_squared_error(y_test,y_predict)\n",
    "rmse=np.sqrt(mse)\n",
    "print(rmse)"
   ]
  },
  {
   "cell_type": "code",
   "execution_count": null,
   "metadata": {
    "collapsed": true
   },
   "outputs": [],
   "source": [
    "#OPTIONAL\n",
    "# Visualize performance of model. \n",
    "xtrain=X_train[:,5]\n",
    "xtest=X_test[:,5]\n",
    "xtrain.shape\n",
    "fig, ax = plt.subplots()\n",
    "ax.scatter(xtrain, y_train, s=100, marker=\"x\", label=\"data\")\n",
    "ax.plot(xtest,y_predict,linestyle=\"--\", color=\"r\", label=\"Fitted 1st Order Linear Model\")\n"
   ]
  },
  {
   "cell_type": "markdown",
   "metadata": {},
   "source": [
    "### Forecasting the unseen data with SGD Regressor and its tuned hyper parameter:\n",
    "To predict the no of visitors of test data which model havent seen , and output of the data is not available, we have to train the model with original traaining data before spliting. and then predict the output values of unseen data."
   ]
  },
  {
   "cell_type": "code",
   "execution_count": 51,
   "metadata": {},
   "outputs": [
    {
     "name": "stderr",
     "output_type": "stream",
     "text": [
      "C:\\Users\\Vidhya\\Anaconda3\\lib\\site-packages\\sklearn\\utils\\validation.py:526: DataConversionWarning: A column-vector y was passed when a 1d array was expected. Please change the shape of y to (n_samples, ), for example using ravel().\n",
      "  y = column_or_1d(y, warn=True)\n"
     ]
    }
   ],
   "source": [
    "#Ttaining the model with whole datset and forecast the unseen data\n",
    "regressor_sgd=regressor_sgd.fit(X,y)\n",
    "y_predict=regressor_sgd.predict(test[col])"
   ]
  },
  {
   "cell_type": "code",
   "execution_count": 52,
   "metadata": {
    "collapsed": true
   },
   "outputs": [],
   "source": [
    "#df dataframe holds testing dataset with predicted values.\n",
    "df=test\n",
    "df['visitors']=y_predict\n",
    "df['visit_date']=pd.to_datetime(df.visit_date)\n"
   ]
  },
  {
   "cell_type": "code",
   "execution_count": 53,
   "metadata": {},
   "outputs": [
    {
     "data": {
      "text/plain": [
       "count    28735.000000\n",
       "mean        10.177086\n",
       "std          0.820398\n",
       "min          6.763301\n",
       "25%          9.633256\n",
       "50%         10.227338\n",
       "75%         10.767375\n",
       "max         12.666629\n",
       "Name: visitors, dtype: float64"
      ]
     },
     "execution_count": 53,
     "metadata": {},
     "output_type": "execute_result"
    }
   ],
   "source": [
    "\n",
    "df[df.holiday_flg==0]['visitors'].describe()"
   ]
  },
  {
   "cell_type": "code",
   "execution_count": 54,
   "metadata": {},
   "outputs": [
    {
     "data": {
      "text/plain": [
       "count    3284.000000\n",
       "mean       10.319736\n",
       "std         0.778102\n",
       "min         6.828047\n",
       "25%         9.804823\n",
       "50%        10.359249\n",
       "75%        10.877407\n",
       "max        12.608638\n",
       "Name: visitors, dtype: float64"
      ]
     },
     "execution_count": 54,
     "metadata": {},
     "output_type": "execute_result"
    }
   ],
   "source": [
    "df[df.holiday_flg==1]['visitors'].describe()"
   ]
  },
  {
   "cell_type": "code",
   "execution_count": 56,
   "metadata": {},
   "outputs": [
    {
     "data": {
      "text/html": [
       "<div>\n",
       "<style>\n",
       "    .dataframe thead tr:only-child th {\n",
       "        text-align: right;\n",
       "    }\n",
       "\n",
       "    .dataframe thead th {\n",
       "        text-align: left;\n",
       "    }\n",
       "\n",
       "    .dataframe tbody tr th {\n",
       "        vertical-align: top;\n",
       "    }\n",
       "</style>\n",
       "<table border=\"1\" class=\"dataframe\">\n",
       "  <thead>\n",
       "    <tr style=\"text-align: right;\">\n",
       "      <th></th>\n",
       "      <th>id</th>\n",
       "      <th>visitors</th>\n",
       "    </tr>\n",
       "  </thead>\n",
       "  <tbody>\n",
       "    <tr>\n",
       "      <th>0</th>\n",
       "      <td>air_00a91d42b08b08d9_2017-04-23</td>\n",
       "      <td>11.410030</td>\n",
       "    </tr>\n",
       "    <tr>\n",
       "      <th>1</th>\n",
       "      <td>air_00a91d42b08b08d9_2017-04-24</td>\n",
       "      <td>11.536463</td>\n",
       "    </tr>\n",
       "    <tr>\n",
       "      <th>2</th>\n",
       "      <td>air_00a91d42b08b08d9_2017-04-25</td>\n",
       "      <td>11.572219</td>\n",
       "    </tr>\n",
       "    <tr>\n",
       "      <th>3</th>\n",
       "      <td>air_00a91d42b08b08d9_2017-04-26</td>\n",
       "      <td>11.570729</td>\n",
       "    </tr>\n",
       "    <tr>\n",
       "      <th>4</th>\n",
       "      <td>air_00a91d42b08b08d9_2017-04-27</td>\n",
       "      <td>11.660192</td>\n",
       "    </tr>\n",
       "    <tr>\n",
       "      <th>5</th>\n",
       "      <td>air_00a91d42b08b08d9_2017-04-28</td>\n",
       "      <td>11.702024</td>\n",
       "    </tr>\n",
       "    <tr>\n",
       "      <th>6</th>\n",
       "      <td>air_00a91d42b08b08d9_2017-04-29</td>\n",
       "      <td>10.892052</td>\n",
       "    </tr>\n",
       "    <tr>\n",
       "      <th>7</th>\n",
       "      <td>air_00a91d42b08b08d9_2017-04-30</td>\n",
       "      <td>11.410030</td>\n",
       "    </tr>\n",
       "    <tr>\n",
       "      <th>8</th>\n",
       "      <td>air_00a91d42b08b08d9_2017-05-01</td>\n",
       "      <td>11.452966</td>\n",
       "    </tr>\n",
       "    <tr>\n",
       "      <th>9</th>\n",
       "      <td>air_00a91d42b08b08d9_2017-05-02</td>\n",
       "      <td>11.566372</td>\n",
       "    </tr>\n",
       "    <tr>\n",
       "      <th>10</th>\n",
       "      <td>air_00a91d42b08b08d9_2017-05-03</td>\n",
       "      <td>11.543582</td>\n",
       "    </tr>\n",
       "    <tr>\n",
       "      <th>11</th>\n",
       "      <td>air_00a91d42b08b08d9_2017-05-04</td>\n",
       "      <td>11.705691</td>\n",
       "    </tr>\n",
       "    <tr>\n",
       "      <th>12</th>\n",
       "      <td>air_00a91d42b08b08d9_2017-05-05</td>\n",
       "      <td>11.724308</td>\n",
       "    </tr>\n",
       "    <tr>\n",
       "      <th>13</th>\n",
       "      <td>air_00a91d42b08b08d9_2017-05-06</td>\n",
       "      <td>10.757124</td>\n",
       "    </tr>\n",
       "    <tr>\n",
       "      <th>14</th>\n",
       "      <td>air_00a91d42b08b08d9_2017-05-07</td>\n",
       "      <td>11.462494</td>\n",
       "    </tr>\n",
       "    <tr>\n",
       "      <th>15</th>\n",
       "      <td>air_00a91d42b08b08d9_2017-05-08</td>\n",
       "      <td>11.452966</td>\n",
       "    </tr>\n",
       "    <tr>\n",
       "      <th>16</th>\n",
       "      <td>air_00a91d42b08b08d9_2017-05-09</td>\n",
       "      <td>11.566372</td>\n",
       "    </tr>\n",
       "    <tr>\n",
       "      <th>17</th>\n",
       "      <td>air_00a91d42b08b08d9_2017-05-10</td>\n",
       "      <td>11.521457</td>\n",
       "    </tr>\n",
       "    <tr>\n",
       "      <th>18</th>\n",
       "      <td>air_00a91d42b08b08d9_2017-05-11</td>\n",
       "      <td>11.683565</td>\n",
       "    </tr>\n",
       "    <tr>\n",
       "      <th>19</th>\n",
       "      <td>air_00a91d42b08b08d9_2017-05-12</td>\n",
       "      <td>11.702182</td>\n",
       "    </tr>\n",
       "  </tbody>\n",
       "</table>\n",
       "</div>"
      ],
      "text/plain": [
       "                                 id   visitors\n",
       "0   air_00a91d42b08b08d9_2017-04-23  11.410030\n",
       "1   air_00a91d42b08b08d9_2017-04-24  11.536463\n",
       "2   air_00a91d42b08b08d9_2017-04-25  11.572219\n",
       "3   air_00a91d42b08b08d9_2017-04-26  11.570729\n",
       "4   air_00a91d42b08b08d9_2017-04-27  11.660192\n",
       "5   air_00a91d42b08b08d9_2017-04-28  11.702024\n",
       "6   air_00a91d42b08b08d9_2017-04-29  10.892052\n",
       "7   air_00a91d42b08b08d9_2017-04-30  11.410030\n",
       "8   air_00a91d42b08b08d9_2017-05-01  11.452966\n",
       "9   air_00a91d42b08b08d9_2017-05-02  11.566372\n",
       "10  air_00a91d42b08b08d9_2017-05-03  11.543582\n",
       "11  air_00a91d42b08b08d9_2017-05-04  11.705691\n",
       "12  air_00a91d42b08b08d9_2017-05-05  11.724308\n",
       "13  air_00a91d42b08b08d9_2017-05-06  10.757124\n",
       "14  air_00a91d42b08b08d9_2017-05-07  11.462494\n",
       "15  air_00a91d42b08b08d9_2017-05-08  11.452966\n",
       "16  air_00a91d42b08b08d9_2017-05-09  11.566372\n",
       "17  air_00a91d42b08b08d9_2017-05-10  11.521457\n",
       "18  air_00a91d42b08b08d9_2017-05-11  11.683565\n",
       "19  air_00a91d42b08b08d9_2017-05-12  11.702182"
      ]
     },
     "execution_count": 56,
     "metadata": {},
     "output_type": "execute_result"
    }
   ],
   "source": [
    "df[['id','visitors']].head(20)"
   ]
  },
  {
   "cell_type": "code",
   "execution_count": 65,
   "metadata": {},
   "outputs": [
    {
     "data": {
      "text/plain": [
       "<matplotlib.axes._subplots.AxesSubplot at 0x1f594875240>"
      ]
     },
     "execution_count": 65,
     "metadata": {},
     "output_type": "execute_result"
    },
    {
     "data": {
      "image/png": "[encoded data removed]",
      "text/plain": [
       "<matplotlib.figure.Figure at 0x1f594838908>"
      ]
     },
     "metadata": {},
     "output_type": "display_data"
    }
   ],
   "source": [
    "df.visitors.hist(bins=25)"
   ]
  },
  {
   "cell_type": "code",
   "execution_count": 64,
   "metadata": {},
   "outputs": [
    {
     "data": {
      "text/plain": [
       "<matplotlib.axes._subplots.AxesSubplot at 0x1f5947994e0>"
      ]
     },
     "execution_count": 64,
     "metadata": {},
     "output_type": "execute_result"
    },
    {
     "data": {
      "image/png": "[encoded data removed]",
      "text/plain": [
       "<matplotlib.figure.Figure at 0x1f5947995c0>"
      ]
     },
     "metadata": {},
     "output_type": "display_data"
    }
   ],
   "source": [
    "import seaborn as sns\n",
    "plt.figure(figsize=(8,8))\n",
    "plt.subplot(111)\n",
    "plt.ylim(0,15)\n",
    "sns.boxplot(df.holiday_flg,df.visitors)\n"
   ]
  },
  {
   "cell_type": "code",
   "execution_count": 73,
   "metadata": {
    "collapsed": true
   },
   "outputs": [],
   "source": [
    "df_group_holiday=df.groupby(['air_store_id','holiday_flg'],as_index=False)['visitors'].mean()\n"
   ]
  },
  {
   "cell_type": "code",
   "execution_count": 79,
   "metadata": {
    "collapsed": true
   },
   "outputs": [],
   "source": [
    "visitors_2017=pd.pivot_table(df_group_holiday,values='visitors',index='air_store_id',columns='holiday_flg')\n"
   ]
  },
  {
   "cell_type": "code",
   "execution_count": 85,
   "metadata": {},
   "outputs": [
    {
     "data": {
      "text/plain": [
       "<matplotlib.axes._subplots.AxesSubplot at 0x1f59d5b6a20>"
      ]
     },
     "execution_count": 85,
     "metadata": {},
     "output_type": "execute_result"
    },
    {
     "data": {
      "image/png": "[encoded data removed]",
      "text/plain": [
       "<matplotlib.figure.Figure at 0x1f59d5cb320>"
      ]
     },
     "metadata": {},
     "output_type": "display_data"
    }
   ],
   "source": [
    "visitors_2017[:30].plot(kind='bar',figsize=(10,10),title='30 Restaurants visitors count')"
   ]
  },
  {
   "cell_type": "markdown",
   "metadata": {
    "collapsed": true
   },
   "source": [
    "Conclusion:\n",
    "    Summary statistic and boxplot shows that no of visitors during holiday is high. That pattern in dataset has been captured in mapping function and that is relationship is observed on unseen dataset aswell."
   ]
  }
 ],
 "metadata": {
  "kernelspec": {
   "display_name": "Python 3",
   "language": "python",
   "name": "python3"
  },
  "language_info": {
   "codemirror_mode": {
    "name": "ipython",
    "version": 3
   },
   "file_extension": ".py",
   "mimetype": "text/x-python",
   "name": "python",
   "nbconvert_exporter": "python",
   "pygments_lexer": "ipython3",
   "version": "3.6.1"
  }
 },
 "nbformat": 4,
 "nbformat_minor": 2
}
